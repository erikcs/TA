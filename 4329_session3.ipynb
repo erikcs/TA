{
 "cells": [
  {
   "cell_type": "markdown",
   "metadata": {},
   "source": [
    "# 4329 Session 3\n",
    "\n",
    "Principal Component Analysis and Factor Models\n",
    "* Factor Models\n",
    "* PCA\n",
    "* Statistical Factor Analysis\n",
    "\n",
    "Statistical learning and model selection\n",
    "* Lasso\n",
    "* Ridge"
   ]
  },
  {
   "cell_type": "markdown",
   "metadata": {},
   "source": [
    "#### Yield data"
   ]
  },
  {
   "cell_type": "code",
   "execution_count": 11,
   "metadata": {},
   "outputs": [],
   "source": [
    "data = read.table('https://people.orie.cornell.edu/davidr/SDAFE/data/yields.txt', header = T)[,-11]\n",
    "ddata = diff(as.ts(data))"
   ]
  },
  {
   "cell_type": "markdown",
   "metadata": {},
   "source": [
    "# Principal components: `prcomp`"
   ]
  },
  {
   "cell_type": "code",
   "execution_count": 17,
   "metadata": {},
   "outputs": [],
   "source": [
    "pca = prcomp(ddata, scale. = TRUE)"
   ]
  },
  {
   "cell_type": "markdown",
   "metadata": {},
   "source": [
    "#### Variance explained"
   ]
  },
  {
   "cell_type": "code",
   "execution_count": 18,
   "metadata": {},
   "outputs": [
    {
     "data": {
      "text/plain": [
       "Importance of components%s:\n",
       "                          PC1    PC2     PC3     PC4    PC5     PC6    PC7\n",
       "Standard deviation     2.9174 1.0222 0.54972 0.26048 0.1732 0.14397 0.1097\n",
       "Proportion of Variance 0.8511 0.1045 0.03022 0.00678 0.0030 0.00207 0.0012\n",
       "Cumulative Proportion  0.8511 0.9556 0.98584 0.99263 0.9956 0.99770 0.9989\n",
       "                           PC8     PC9    PC10\n",
       "Standard deviation     0.07457 0.06546 0.03388\n",
       "Proportion of Variance 0.00056 0.00043 0.00011\n",
       "Cumulative Proportion  0.99946 0.99989 1.00000"
      ]
     },
     "metadata": {},
     "output_type": "display_data"
    }
   ],
   "source": [
    "summary(pca)"
   ]
  },
  {
   "cell_type": "markdown",
   "metadata": {},
   "source": [
    "#### The loadings (eigenvectors)"
   ]
  },
  {
   "cell_type": "code",
   "execution_count": 19,
   "metadata": {},
   "outputs": [
    {
     "data": {
      "text/html": [
       "<table>\n",
       "<thead><tr><th></th><th scope=col>PC1</th><th scope=col>PC2</th><th scope=col>PC3</th><th scope=col>PC4</th><th scope=col>PC5</th><th scope=col>PC6</th><th scope=col>PC7</th><th scope=col>PC8</th><th scope=col>PC9</th><th scope=col>PC10</th></tr></thead>\n",
       "<tbody>\n",
       "\t<tr><th scope=row>X1mon</th><td>0.08228573  </td><td> 0.93680368 </td><td> 0.27439245 </td><td> 0.1896871  </td><td>-0.03161511 </td><td>-0.05632103 </td><td> 0.001891534</td><td>-0.007397267</td><td>-0.01042100 </td><td>-0.004129093</td></tr>\n",
       "\t<tr><th scope=row>X2mon</th><td>0.30560117  </td><td> 0.28451236 </td><td>-0.54781293 </td><td>-0.6239901  </td><td> 0.26831196 </td><td> 0.24354461 </td><td>-0.044467623</td><td> 0.022653990</td><td> 0.04607092 </td><td> 0.016719490</td></tr>\n",
       "\t<tr><th scope=row>X3mon</th><td>0.32971180  </td><td> 0.02219620 </td><td>-0.44785386 </td><td> 0.1379840  </td><td>-0.34154958 </td><td>-0.58588083 </td><td> 0.322035237</td><td>-0.157287111</td><td>-0.27265294 </td><td>-0.092123746</td></tr>\n",
       "\t<tr><th scope=row>X4mon</th><td>0.33773356  </td><td>-0.02458943 </td><td>-0.22350374 </td><td> 0.3119622  </td><td>-0.32791686 </td><td> 0.04656225 </td><td>-0.316704566</td><td> 0.420704863</td><td> 0.55914367 </td><td> 0.196019249</td></tr>\n",
       "\t<tr><th scope=row>X5mon</th><td>0.33936688  </td><td>-0.05689953 </td><td>-0.06518434 </td><td> 0.3166588  </td><td>-0.11140024 </td><td> 0.48511584 </td><td>-0.386430969</td><td>-0.249138558</td><td>-0.41267253 </td><td>-0.384221125</td></tr>\n",
       "\t<tr><th scope=row>X5.5mon</th><td>0.33966084  </td><td>-0.07661367 </td><td> 0.03855192 </td><td> 0.2903094  </td><td> 0.27328509 </td><td> 0.24243835 </td><td> 0.328483359</td><td>-0.287142909</td><td>-0.05233258 </td><td> 0.682966253</td></tr>\n",
       "\t<tr><th scope=row>X6.5mon</th><td>0.33825157  </td><td>-0.09023546 </td><td> 0.11911901 </td><td> 0.2104617  </td><td> 0.50156639 </td><td>-0.02435377 </td><td> 0.398417845</td><td> 0.247311230</td><td> 0.24538572 </td><td>-0.535429046</td></tr>\n",
       "\t<tr><th scope=row>X7.5mon</th><td>0.33532358  </td><td>-0.09867443 </td><td> 0.25506659 </td><td>-0.1048163  </td><td> 0.36449861 </td><td>-0.46816927 </td><td>-0.506922558</td><td> 0.231615528</td><td>-0.32142440 </td><td> 0.189220654</td></tr>\n",
       "\t<tr><th scope=row>X8.5mon</th><td>0.33314095  </td><td>-0.08662408 </td><td> 0.35049915 </td><td>-0.2963443  </td><td>-0.16050384 </td><td>-0.15354271 </td><td>-0.117114911</td><td>-0.618348759</td><td> 0.45966918 </td><td>-0.118912081</td></tr>\n",
       "\t<tr><th scope=row>X9.5mon</th><td>0.32967388  </td><td>-0.07657840 </td><td> 0.40773713 </td><td>-0.3614447  </td><td>-0.45336441 </td><td> 0.23371973 </td><td> 0.327654092</td><td> 0.394987853</td><td>-0.25085202 </td><td> 0.045776647</td></tr>\n",
       "</tbody>\n",
       "</table>\n"
      ],
      "text/latex": [
       "\\begin{tabular}{r|llllllllll}\n",
       "  & PC1 & PC2 & PC3 & PC4 & PC5 & PC6 & PC7 & PC8 & PC9 & PC10\\\\\n",
       "\\hline\n",
       "\tX1mon & 0.08228573   &  0.93680368  &  0.27439245  &  0.1896871   & -0.03161511  & -0.05632103  &  0.001891534 & -0.007397267 & -0.01042100  & -0.004129093\\\\\n",
       "\tX2mon & 0.30560117   &  0.28451236  & -0.54781293  & -0.6239901   &  0.26831196  &  0.24354461  & -0.044467623 &  0.022653990 &  0.04607092  &  0.016719490\\\\\n",
       "\tX3mon & 0.32971180   &  0.02219620  & -0.44785386  &  0.1379840   & -0.34154958  & -0.58588083  &  0.322035237 & -0.157287111 & -0.27265294  & -0.092123746\\\\\n",
       "\tX4mon & 0.33773356   & -0.02458943  & -0.22350374  &  0.3119622   & -0.32791686  &  0.04656225  & -0.316704566 &  0.420704863 &  0.55914367  &  0.196019249\\\\\n",
       "\tX5mon & 0.33936688   & -0.05689953  & -0.06518434  &  0.3166588   & -0.11140024  &  0.48511584  & -0.386430969 & -0.249138558 & -0.41267253  & -0.384221125\\\\\n",
       "\tX5.5mon & 0.33966084   & -0.07661367  &  0.03855192  &  0.2903094   &  0.27328509  &  0.24243835  &  0.328483359 & -0.287142909 & -0.05233258  &  0.682966253\\\\\n",
       "\tX6.5mon & 0.33825157   & -0.09023546  &  0.11911901  &  0.2104617   &  0.50156639  & -0.02435377  &  0.398417845 &  0.247311230 &  0.24538572  & -0.535429046\\\\\n",
       "\tX7.5mon & 0.33532358   & -0.09867443  &  0.25506659  & -0.1048163   &  0.36449861  & -0.46816927  & -0.506922558 &  0.231615528 & -0.32142440  &  0.189220654\\\\\n",
       "\tX8.5mon & 0.33314095   & -0.08662408  &  0.35049915  & -0.2963443   & -0.16050384  & -0.15354271  & -0.117114911 & -0.618348759 &  0.45966918  & -0.118912081\\\\\n",
       "\tX9.5mon & 0.32967388   & -0.07657840  &  0.40773713  & -0.3614447   & -0.45336441  &  0.23371973  &  0.327654092 &  0.394987853 & -0.25085202  &  0.045776647\\\\\n",
       "\\end{tabular}\n"
      ],
      "text/markdown": [
       "\n",
       "| <!--/--> | PC1 | PC2 | PC3 | PC4 | PC5 | PC6 | PC7 | PC8 | PC9 | PC10 | \n",
       "|---|---|---|---|---|---|---|---|---|---|\n",
       "| X1mon | 0.08228573   |  0.93680368  |  0.27439245  |  0.1896871   | -0.03161511  | -0.05632103  |  0.001891534 | -0.007397267 | -0.01042100  | -0.004129093 | \n",
       "| X2mon | 0.30560117   |  0.28451236  | -0.54781293  | -0.6239901   |  0.26831196  |  0.24354461  | -0.044467623 |  0.022653990 |  0.04607092  |  0.016719490 | \n",
       "| X3mon | 0.32971180   |  0.02219620  | -0.44785386  |  0.1379840   | -0.34154958  | -0.58588083  |  0.322035237 | -0.157287111 | -0.27265294  | -0.092123746 | \n",
       "| X4mon | 0.33773356   | -0.02458943  | -0.22350374  |  0.3119622   | -0.32791686  |  0.04656225  | -0.316704566 |  0.420704863 |  0.55914367  |  0.196019249 | \n",
       "| X5mon | 0.33936688   | -0.05689953  | -0.06518434  |  0.3166588   | -0.11140024  |  0.48511584  | -0.386430969 | -0.249138558 | -0.41267253  | -0.384221125 | \n",
       "| X5.5mon | 0.33966084   | -0.07661367  |  0.03855192  |  0.2903094   |  0.27328509  |  0.24243835  |  0.328483359 | -0.287142909 | -0.05233258  |  0.682966253 | \n",
       "| X6.5mon | 0.33825157   | -0.09023546  |  0.11911901  |  0.2104617   |  0.50156639  | -0.02435377  |  0.398417845 |  0.247311230 |  0.24538572  | -0.535429046 | \n",
       "| X7.5mon | 0.33532358   | -0.09867443  |  0.25506659  | -0.1048163   |  0.36449861  | -0.46816927  | -0.506922558 |  0.231615528 | -0.32142440  |  0.189220654 | \n",
       "| X8.5mon | 0.33314095   | -0.08662408  |  0.35049915  | -0.2963443   | -0.16050384  | -0.15354271  | -0.117114911 | -0.618348759 |  0.45966918  | -0.118912081 | \n",
       "| X9.5mon | 0.32967388   | -0.07657840  |  0.40773713  | -0.3614447   | -0.45336441  |  0.23371973  |  0.327654092 |  0.394987853 | -0.25085202  |  0.045776647 | \n",
       "\n",
       "\n"
      ],
      "text/plain": [
       "        PC1        PC2         PC3         PC4        PC5         PC6        \n",
       "X1mon   0.08228573  0.93680368  0.27439245  0.1896871 -0.03161511 -0.05632103\n",
       "X2mon   0.30560117  0.28451236 -0.54781293 -0.6239901  0.26831196  0.24354461\n",
       "X3mon   0.32971180  0.02219620 -0.44785386  0.1379840 -0.34154958 -0.58588083\n",
       "X4mon   0.33773356 -0.02458943 -0.22350374  0.3119622 -0.32791686  0.04656225\n",
       "X5mon   0.33936688 -0.05689953 -0.06518434  0.3166588 -0.11140024  0.48511584\n",
       "X5.5mon 0.33966084 -0.07661367  0.03855192  0.2903094  0.27328509  0.24243835\n",
       "X6.5mon 0.33825157 -0.09023546  0.11911901  0.2104617  0.50156639 -0.02435377\n",
       "X7.5mon 0.33532358 -0.09867443  0.25506659 -0.1048163  0.36449861 -0.46816927\n",
       "X8.5mon 0.33314095 -0.08662408  0.35049915 -0.2963443 -0.16050384 -0.15354271\n",
       "X9.5mon 0.32967388 -0.07657840  0.40773713 -0.3614447 -0.45336441  0.23371973\n",
       "        PC7          PC8          PC9         PC10        \n",
       "X1mon    0.001891534 -0.007397267 -0.01042100 -0.004129093\n",
       "X2mon   -0.044467623  0.022653990  0.04607092  0.016719490\n",
       "X3mon    0.322035237 -0.157287111 -0.27265294 -0.092123746\n",
       "X4mon   -0.316704566  0.420704863  0.55914367  0.196019249\n",
       "X5mon   -0.386430969 -0.249138558 -0.41267253 -0.384221125\n",
       "X5.5mon  0.328483359 -0.287142909 -0.05233258  0.682966253\n",
       "X6.5mon  0.398417845  0.247311230  0.24538572 -0.535429046\n",
       "X7.5mon -0.506922558  0.231615528 -0.32142440  0.189220654\n",
       "X8.5mon -0.117114911 -0.618348759  0.45966918 -0.118912081\n",
       "X9.5mon  0.327654092  0.394987853 -0.25085202  0.045776647"
      ]
     },
     "metadata": {},
     "output_type": "display_data"
    }
   ],
   "source": [
    "pca$rotation"
   ]
  },
  {
   "cell_type": "markdown",
   "metadata": {},
   "source": [
    "# Factor models"
   ]
  },
  {
   "cell_type": "code",
   "execution_count": 70,
   "metadata": {},
   "outputs": [],
   "source": [
    "data = read.csv('https://people.orie.cornell.edu/davidr/SDAFE/data/Stock_FX_Bond.csv')\n",
    "# Select the stock or index data (column names that ends with \"_AC\")\n",
    "data = data[grep('_AC', colnames(data))]\n",
    "# Convert to ts\n",
    "data = as.ts(data)\n",
    "# Convert to percent\n",
    "data = 100 * (data / lag(data, -1) - 1)"
   ]
  },
  {
   "cell_type": "code",
   "execution_count": 74,
   "metadata": {
    "scrolled": true
   },
   "outputs": [
    {
     "data": {
      "text/html": [
       "<table>\n",
       "<thead><tr><th scope=col>data.GM_AC</th><th scope=col>data.F_AC</th><th scope=col>data.UTX_AC</th><th scope=col>data.CAT_AC</th><th scope=col>data.MRK_AC</th><th scope=col>data.PFE_AC</th><th scope=col>data.IBM_AC</th><th scope=col>data.MSFT_AC</th><th scope=col>data.C_AC</th><th scope=col>data.XOM_AC</th><th scope=col>data.S.P_AC</th></tr></thead>\n",
       "<tbody>\n",
       "\t<tr><td> 2.4454148</td><td> 3.8961039</td><td> 1.092896 </td><td> 2.9585799</td><td> 1.9900498</td><td>2.9940120 </td><td> 1.3209393</td><td> 7.142857 </td><td> 4.0723982</td><td> 2.4336283</td><td>2.3290728 </td></tr>\n",
       "\t<tr><td> 0.3410060</td><td> 1.2500000</td><td> 1.081081 </td><td> 0.0000000</td><td>-0.7317073</td><td>1.7441860 </td><td>-0.5311444</td><td> 0.000000 </td><td>-1.3043478</td><td>-0.2159827</td><td>0.2339506 </td></tr>\n",
       "\t<tr><td> 0.5097706</td><td> 4.1152263</td><td> 1.069519 </td><td>-0.8620690</td><td> 0.2457002</td><td>0.5714286 </td><td> 0.4368932</td><td> 6.666667 </td><td> 1.7621145</td><td>-0.2164502</td><td>1.0087823 </td></tr>\n",
       "\t<tr><td>-1.4370245</td><td>-0.7905138</td><td> 1.058201 </td><td>-0.2898551</td><td> 1.2254902</td><td>1.1363636 </td><td>-0.5316578</td><td> 6.250000 </td><td> 1.2987013</td><td> 0.0000000</td><td>0.7637175 </td></tr>\n",
       "\t<tr><td> 0.9433962</td><td> 1.5936255</td><td>-1.308901 </td><td> 2.0348837</td><td>-0.4842615</td><td>0.0000000 </td><td>-0.4859086</td><td> 0.000000 </td><td> 0.0000000</td><td> 0.4338395</td><td>0.5635883 </td></tr>\n",
       "\t<tr><td>-0.1699235</td><td> 1.9607843</td><td>-1.061008 </td><td> 0.5698006</td><td>-1.2165450</td><td>0.0000000 </td><td>-1.5625000</td><td>11.764706 </td><td> 0.4273504</td><td> 1.9438445</td><td>0.6068102 </td></tr>\n",
       "</tbody>\n",
       "</table>\n"
      ],
      "text/latex": [
       "\\begin{tabular}{lllllllllll}\n",
       " data.GM\\_AC & data.F\\_AC & data.UTX\\_AC & data.CAT\\_AC & data.MRK\\_AC & data.PFE\\_AC & data.IBM\\_AC & data.MSFT\\_AC & data.C\\_AC & data.XOM\\_AC & data.S.P\\_AC\\\\\n",
       "\\hline\n",
       "\t  2.4454148 &  3.8961039 &  1.092896  &  2.9585799 &  1.9900498 & 2.9940120  &  1.3209393 &  7.142857  &  4.0723982 &  2.4336283 & 2.3290728 \\\\\n",
       "\t  0.3410060 &  1.2500000 &  1.081081  &  0.0000000 & -0.7317073 & 1.7441860  & -0.5311444 &  0.000000  & -1.3043478 & -0.2159827 & 0.2339506 \\\\\n",
       "\t  0.5097706 &  4.1152263 &  1.069519  & -0.8620690 &  0.2457002 & 0.5714286  &  0.4368932 &  6.666667  &  1.7621145 & -0.2164502 & 1.0087823 \\\\\n",
       "\t -1.4370245 & -0.7905138 &  1.058201  & -0.2898551 &  1.2254902 & 1.1363636  & -0.5316578 &  6.250000  &  1.2987013 &  0.0000000 & 0.7637175 \\\\\n",
       "\t  0.9433962 &  1.5936255 & -1.308901  &  2.0348837 & -0.4842615 & 0.0000000  & -0.4859086 &  0.000000  &  0.0000000 &  0.4338395 & 0.5635883 \\\\\n",
       "\t -0.1699235 &  1.9607843 & -1.061008  &  0.5698006 & -1.2165450 & 0.0000000  & -1.5625000 & 11.764706  &  0.4273504 &  1.9438445 & 0.6068102 \\\\\n",
       "\\end{tabular}\n"
      ],
      "text/markdown": [
       "\n",
       "data.GM_AC | data.F_AC | data.UTX_AC | data.CAT_AC | data.MRK_AC | data.PFE_AC | data.IBM_AC | data.MSFT_AC | data.C_AC | data.XOM_AC | data.S.P_AC | \n",
       "|---|---|---|---|---|---|\n",
       "|  2.4454148 |  3.8961039 |  1.092896  |  2.9585799 |  1.9900498 | 2.9940120  |  1.3209393 |  7.142857  |  4.0723982 |  2.4336283 | 2.3290728  | \n",
       "|  0.3410060 |  1.2500000 |  1.081081  |  0.0000000 | -0.7317073 | 1.7441860  | -0.5311444 |  0.000000  | -1.3043478 | -0.2159827 | 0.2339506  | \n",
       "|  0.5097706 |  4.1152263 |  1.069519  | -0.8620690 |  0.2457002 | 0.5714286  |  0.4368932 |  6.666667  |  1.7621145 | -0.2164502 | 1.0087823  | \n",
       "| -1.4370245 | -0.7905138 |  1.058201  | -0.2898551 |  1.2254902 | 1.1363636  | -0.5316578 |  6.250000  |  1.2987013 |  0.0000000 | 0.7637175  | \n",
       "|  0.9433962 |  1.5936255 | -1.308901  |  2.0348837 | -0.4842615 | 0.0000000  | -0.4859086 |  0.000000  |  0.0000000 |  0.4338395 | 0.5635883  | \n",
       "| -0.1699235 |  1.9607843 | -1.061008  |  0.5698006 | -1.2165450 | 0.0000000  | -1.5625000 | 11.764706  |  0.4273504 |  1.9438445 | 0.6068102  | \n",
       "\n",
       "\n"
      ],
      "text/plain": [
       "     data.GM_AC data.F_AC  data.UTX_AC data.CAT_AC data.MRK_AC data.PFE_AC\n",
       "[1,]  2.4454148  3.8961039  1.092896    2.9585799   1.9900498  2.9940120  \n",
       "[2,]  0.3410060  1.2500000  1.081081    0.0000000  -0.7317073  1.7441860  \n",
       "[3,]  0.5097706  4.1152263  1.069519   -0.8620690   0.2457002  0.5714286  \n",
       "[4,] -1.4370245 -0.7905138  1.058201   -0.2898551   1.2254902  1.1363636  \n",
       "[5,]  0.9433962  1.5936255 -1.308901    2.0348837  -0.4842615  0.0000000  \n",
       "[6,] -0.1699235  1.9607843 -1.061008    0.5698006  -1.2165450  0.0000000  \n",
       "     data.IBM_AC data.MSFT_AC data.C_AC  data.XOM_AC data.S.P_AC\n",
       "[1,]  1.3209393   7.142857     4.0723982  2.4336283  2.3290728  \n",
       "[2,] -0.5311444   0.000000    -1.3043478 -0.2159827  0.2339506  \n",
       "[3,]  0.4368932   6.666667     1.7621145 -0.2164502  1.0087823  \n",
       "[4,] -0.5316578   6.250000     1.2987013  0.0000000  0.7637175  \n",
       "[5,] -0.4859086   0.000000     0.0000000  0.4338395  0.5635883  \n",
       "[6,] -1.5625000  11.764706     0.4273504  1.9438445  0.6068102  "
      ]
     },
     "metadata": {},
     "output_type": "display_data"
    }
   ],
   "source": [
    "head(data)"
   ]
  },
  {
   "cell_type": "markdown",
   "metadata": {},
   "source": [
    "Simple factor model with the market (last column in data is SP500 index), and 2 other stocks treated as factors"
   ]
  },
  {
   "cell_type": "code",
   "execution_count": 126,
   "metadata": {},
   "outputs": [
    {
     "data": {
      "text/html": [
       "<table>\n",
       "<thead><tr><th></th><th scope=col>data.GM_AC</th><th scope=col>data.F_AC</th><th scope=col>data.UTX_AC</th><th scope=col>data.CAT_AC</th><th scope=col>data.MRK_AC</th></tr></thead>\n",
       "<tbody>\n",
       "\t<tr><th scope=row>(Intercept)</th><td> 0.002831656</td><td> 0.009497674</td><td>0.03523024  </td><td> 0.04029447 </td><td> 0.029550340</td></tr>\n",
       "\t<tr><th scope=row>Mkt</th><td> 1.102119291</td><td> 1.068293224</td><td>0.82555460  </td><td> 0.91510730 </td><td> 0.842484200</td></tr>\n",
       "\t<tr><th scope=row>factor1</th><td>-0.019769850</td><td> 0.014155008</td><td>0.04246978  </td><td> 0.04966791 </td><td>-0.011874653</td></tr>\n",
       "\t<tr><th scope=row>factor2</th><td>-0.057367950</td><td>-0.077216084</td><td>0.01982829  </td><td>-0.01319556 </td><td> 0.008889204</td></tr>\n",
       "</tbody>\n",
       "</table>\n"
      ],
      "text/latex": [
       "\\begin{tabular}{r|lllll}\n",
       "  & data.GM\\_AC & data.F\\_AC & data.UTX\\_AC & data.CAT\\_AC & data.MRK\\_AC\\\\\n",
       "\\hline\n",
       "\t(Intercept) &  0.002831656 &  0.009497674 & 0.03523024   &  0.04029447  &  0.029550340\\\\\n",
       "\tMkt &  1.102119291 &  1.068293224 & 0.82555460   &  0.91510730  &  0.842484200\\\\\n",
       "\tfactor1 & -0.019769850 &  0.014155008 & 0.04246978   &  0.04966791  & -0.011874653\\\\\n",
       "\tfactor2 & -0.057367950 & -0.077216084 & 0.01982829   & -0.01319556  &  0.008889204\\\\\n",
       "\\end{tabular}\n"
      ],
      "text/markdown": [
       "\n",
       "| <!--/--> | data.GM_AC | data.F_AC | data.UTX_AC | data.CAT_AC | data.MRK_AC | \n",
       "|---|---|---|---|\n",
       "| (Intercept) |  0.002831656 |  0.009497674 | 0.03523024   |  0.04029447  |  0.029550340 | \n",
       "| Mkt |  1.102119291 |  1.068293224 | 0.82555460   |  0.91510730  |  0.842484200 | \n",
       "| factor1 | -0.019769850 |  0.014155008 | 0.04246978   |  0.04966791  | -0.011874653 | \n",
       "| factor2 | -0.057367950 | -0.077216084 | 0.01982829   | -0.01319556  |  0.008889204 | \n",
       "\n",
       "\n"
      ],
      "text/plain": [
       "            data.GM_AC   data.F_AC    data.UTX_AC data.CAT_AC data.MRK_AC \n",
       "(Intercept)  0.002831656  0.009497674 0.03523024   0.04029447  0.029550340\n",
       "Mkt          1.102119291  1.068293224 0.82555460   0.91510730  0.842484200\n",
       "factor1     -0.019769850  0.014155008 0.04246978   0.04966791 -0.011874653\n",
       "factor2     -0.057367950 -0.077216084 0.01982829  -0.01319556  0.008889204"
      ]
     },
     "metadata": {},
     "output_type": "display_data"
    }
   ],
   "source": [
    "Mkt = data[, 11]\n",
    "factor1 = data[, 9]\n",
    "factor2 = data[, 10]\n",
    "stocks = data[, 1:5] \n",
    "fit = lm(stocks ~ Mkt + factor1 + factor2)\n",
    "coef(fit)"
   ]
  },
  {
   "cell_type": "markdown",
   "metadata": {},
   "source": [
    "The factor estimated covariance matrix, same notation as the book"
   ]
  },
  {
   "cell_type": "code",
   "execution_count": 159,
   "metadata": {},
   "outputs": [
    {
     "data": {
      "text/html": [
       "<table>\n",
       "<thead><tr><th></th><th scope=col>data.GM_AC</th><th scope=col>data.F_AC</th><th scope=col>data.UTX_AC</th><th scope=col>data.CAT_AC</th><th scope=col>data.MRK_AC</th></tr></thead>\n",
       "<tbody>\n",
       "\t<tr><th scope=row>data.GM_AC</th><td>4.260596</td><td>4.255369</td><td>4.090335</td><td>4.180319</td><td>4.018864</td></tr>\n",
       "\t<tr><th scope=row>data.F_AC</th><td>4.440178</td><td>4.439106</td><td>4.273878</td><td>4.365450</td><td>4.197752</td></tr>\n",
       "\t<tr><th scope=row>data.UTX_AC</th><td>3.177970</td><td>3.176704</td><td>3.046767</td><td>3.122921</td><td>2.975406</td></tr>\n",
       "\t<tr><th scope=row>data.CAT_AC</th><td>3.970169</td><td>3.970490</td><td>3.825135</td><td>3.909462</td><td>3.747528</td></tr>\n",
       "\t<tr><th scope=row>data.MRK_AC</th><td>3.277679</td><td>3.271756</td><td>3.146585</td><td>3.216493</td><td>3.087967</td></tr>\n",
       "</tbody>\n",
       "</table>\n"
      ],
      "text/latex": [
       "\\begin{tabular}{r|lllll}\n",
       "  & data.GM\\_AC & data.F\\_AC & data.UTX\\_AC & data.CAT\\_AC & data.MRK\\_AC\\\\\n",
       "\\hline\n",
       "\tdata.GM\\_AC & 4.260596 & 4.255369 & 4.090335 & 4.180319 & 4.018864\\\\\n",
       "\tdata.F\\_AC & 4.440178 & 4.439106 & 4.273878 & 4.365450 & 4.197752\\\\\n",
       "\tdata.UTX\\_AC & 3.177970 & 3.176704 & 3.046767 & 3.122921 & 2.975406\\\\\n",
       "\tdata.CAT\\_AC & 3.970169 & 3.970490 & 3.825135 & 3.909462 & 3.747528\\\\\n",
       "\tdata.MRK\\_AC & 3.277679 & 3.271756 & 3.146585 & 3.216493 & 3.087967\\\\\n",
       "\\end{tabular}\n"
      ],
      "text/markdown": [
       "\n",
       "| <!--/--> | data.GM_AC | data.F_AC | data.UTX_AC | data.CAT_AC | data.MRK_AC | \n",
       "|---|---|---|---|---|\n",
       "| data.GM_AC | 4.260596 | 4.255369 | 4.090335 | 4.180319 | 4.018864 | \n",
       "| data.F_AC | 4.440178 | 4.439106 | 4.273878 | 4.365450 | 4.197752 | \n",
       "| data.UTX_AC | 3.177970 | 3.176704 | 3.046767 | 3.122921 | 2.975406 | \n",
       "| data.CAT_AC | 3.970169 | 3.970490 | 3.825135 | 3.909462 | 3.747528 | \n",
       "| data.MRK_AC | 3.277679 | 3.271756 | 3.146585 | 3.216493 | 3.087967 | \n",
       "\n",
       "\n"
      ],
      "text/plain": [
       "            data.GM_AC data.F_AC data.UTX_AC data.CAT_AC data.MRK_AC\n",
       "data.GM_AC  4.260596   4.255369  4.090335    4.180319    4.018864   \n",
       "data.F_AC   4.440178   4.439106  4.273878    4.365450    4.197752   \n",
       "data.UTX_AC 3.177970   3.176704  3.046767    3.122921    2.975406   \n",
       "data.CAT_AC 3.970169   3.970490  3.825135    3.909462    3.747528   \n",
       "data.MRK_AC 3.277679   3.271756  3.146585    3.216493    3.087967   "
      ]
     },
     "metadata": {},
     "output_type": "display_data"
    }
   ],
   "source": [
    "sigma_F = cov(cbind(Mkt, factor1, factor2))\n",
    "beta = coef(fit)[-1, ]\n",
    "sigma_eps = diag(cov(fit$residuals))\n",
    "\n",
    "t(beta) %*% sigma_F %*% beta + sigma_eps"
   ]
  },
  {
   "cell_type": "markdown",
   "metadata": {},
   "source": [
    "The actual covariance"
   ]
  },
  {
   "cell_type": "code",
   "execution_count": 160,
   "metadata": {},
   "outputs": [
    {
     "data": {
      "text/html": [
       "<table>\n",
       "<thead><tr><th></th><th scope=col>data.GM_AC</th><th scope=col>data.F_AC</th><th scope=col>data.UTX_AC</th><th scope=col>data.CAT_AC</th><th scope=col>data.MRK_AC</th></tr></thead>\n",
       "<tbody>\n",
       "\t<tr><th scope=row>data.GM_AC</th><td>4.2605957</td><td>2.6699572</td><td>1.2455745</td><td>1.4654812</td><td>0.8957578</td></tr>\n",
       "\t<tr><th scope=row>data.F_AC</th><td>2.6699572</td><td>4.4391064</td><td>1.2740768</td><td>1.5316444</td><td>0.9780046</td></tr>\n",
       "\t<tr><th scope=row>data.UTX_AC</th><td>1.2455745</td><td>1.2740768</td><td>3.0467665</td><td>1.3875721</td><td>0.8154347</td></tr>\n",
       "\t<tr><th scope=row>data.CAT_AC</th><td>1.4654812</td><td>1.5316444</td><td>1.3875721</td><td>3.9094617</td><td>0.8230401</td></tr>\n",
       "\t<tr><th scope=row>data.MRK_AC</th><td>0.8957578</td><td>0.9780046</td><td>0.8154347</td><td>0.8230401</td><td>3.0879666</td></tr>\n",
       "</tbody>\n",
       "</table>\n"
      ],
      "text/latex": [
       "\\begin{tabular}{r|lllll}\n",
       "  & data.GM\\_AC & data.F\\_AC & data.UTX\\_AC & data.CAT\\_AC & data.MRK\\_AC\\\\\n",
       "\\hline\n",
       "\tdata.GM\\_AC & 4.2605957 & 2.6699572 & 1.2455745 & 1.4654812 & 0.8957578\\\\\n",
       "\tdata.F\\_AC & 2.6699572 & 4.4391064 & 1.2740768 & 1.5316444 & 0.9780046\\\\\n",
       "\tdata.UTX\\_AC & 1.2455745 & 1.2740768 & 3.0467665 & 1.3875721 & 0.8154347\\\\\n",
       "\tdata.CAT\\_AC & 1.4654812 & 1.5316444 & 1.3875721 & 3.9094617 & 0.8230401\\\\\n",
       "\tdata.MRK\\_AC & 0.8957578 & 0.9780046 & 0.8154347 & 0.8230401 & 3.0879666\\\\\n",
       "\\end{tabular}\n"
      ],
      "text/markdown": [
       "\n",
       "| <!--/--> | data.GM_AC | data.F_AC | data.UTX_AC | data.CAT_AC | data.MRK_AC | \n",
       "|---|---|---|---|---|\n",
       "| data.GM_AC | 4.2605957 | 2.6699572 | 1.2455745 | 1.4654812 | 0.8957578 | \n",
       "| data.F_AC | 2.6699572 | 4.4391064 | 1.2740768 | 1.5316444 | 0.9780046 | \n",
       "| data.UTX_AC | 1.2455745 | 1.2740768 | 3.0467665 | 1.3875721 | 0.8154347 | \n",
       "| data.CAT_AC | 1.4654812 | 1.5316444 | 1.3875721 | 3.9094617 | 0.8230401 | \n",
       "| data.MRK_AC | 0.8957578 | 0.9780046 | 0.8154347 | 0.8230401 | 3.0879666 | \n",
       "\n",
       "\n"
      ],
      "text/plain": [
       "            data.GM_AC data.F_AC data.UTX_AC data.CAT_AC data.MRK_AC\n",
       "data.GM_AC  4.2605957  2.6699572 1.2455745   1.4654812   0.8957578  \n",
       "data.F_AC   2.6699572  4.4391064 1.2740768   1.5316444   0.9780046  \n",
       "data.UTX_AC 1.2455745  1.2740768 3.0467665   1.3875721   0.8154347  \n",
       "data.CAT_AC 1.4654812  1.5316444 1.3875721   3.9094617   0.8230401  \n",
       "data.MRK_AC 0.8957578  0.9780046 0.8154347   0.8230401   3.0879666  "
      ]
     },
     "metadata": {},
     "output_type": "display_data"
    }
   ],
   "source": [
    "cov(stocks)"
   ]
  },
  {
   "cell_type": "markdown",
   "metadata": {},
   "source": [
    "# Stepwise regression "
   ]
  },
  {
   "cell_type": "code",
   "execution_count": 1,
   "metadata": {},
   "outputs": [],
   "source": [
    "data = read.csv('http://www-bcf.usc.edu/~gareth/ISL/Credit.csv')[, -1]"
   ]
  },
  {
   "cell_type": "markdown",
   "metadata": {},
   "source": [
    "Predict `Rating` with the other variabes"
   ]
  },
  {
   "cell_type": "code",
   "execution_count": 2,
   "metadata": {},
   "outputs": [
    {
     "data": {
      "text/html": [
       "<table>\n",
       "<thead><tr><th scope=col>Income</th><th scope=col>Limit</th><th scope=col>Rating</th><th scope=col>Cards</th><th scope=col>Age</th><th scope=col>Education</th><th scope=col>Gender</th><th scope=col>Student</th><th scope=col>Married</th><th scope=col>Ethnicity</th><th scope=col>Balance</th></tr></thead>\n",
       "<tbody>\n",
       "\t<tr><td> 14.891  </td><td>3606     </td><td>283      </td><td>2        </td><td>34       </td><td>11       </td><td> Male    </td><td>No       </td><td>Yes      </td><td>Caucasian</td><td> 333     </td></tr>\n",
       "\t<tr><td>106.025  </td><td>6645     </td><td>483      </td><td>3        </td><td>82       </td><td>15       </td><td>Female   </td><td>Yes      </td><td>Yes      </td><td>Asian    </td><td> 903     </td></tr>\n",
       "\t<tr><td>104.593  </td><td>7075     </td><td>514      </td><td>4        </td><td>71       </td><td>11       </td><td> Male    </td><td>No       </td><td>No       </td><td>Asian    </td><td> 580     </td></tr>\n",
       "\t<tr><td>148.924  </td><td>9504     </td><td>681      </td><td>3        </td><td>36       </td><td>11       </td><td>Female   </td><td>No       </td><td>No       </td><td>Asian    </td><td> 964     </td></tr>\n",
       "\t<tr><td> 55.882  </td><td>4897     </td><td>357      </td><td>2        </td><td>68       </td><td>16       </td><td> Male    </td><td>No       </td><td>Yes      </td><td>Caucasian</td><td> 331     </td></tr>\n",
       "\t<tr><td> 80.180  </td><td>8047     </td><td>569      </td><td>4        </td><td>77       </td><td>10       </td><td> Male    </td><td>No       </td><td>No       </td><td>Caucasian</td><td>1151     </td></tr>\n",
       "</tbody>\n",
       "</table>\n"
      ],
      "text/latex": [
       "\\begin{tabular}{r|lllllllllll}\n",
       " Income & Limit & Rating & Cards & Age & Education & Gender & Student & Married & Ethnicity & Balance\\\\\n",
       "\\hline\n",
       "\t  14.891   & 3606      & 283       & 2         & 34        & 11        &  Male     & No        & Yes       & Caucasian &  333     \\\\\n",
       "\t 106.025   & 6645      & 483       & 3         & 82        & 15        & Female    & Yes       & Yes       & Asian     &  903     \\\\\n",
       "\t 104.593   & 7075      & 514       & 4         & 71        & 11        &  Male     & No        & No        & Asian     &  580     \\\\\n",
       "\t 148.924   & 9504      & 681       & 3         & 36        & 11        & Female    & No        & No        & Asian     &  964     \\\\\n",
       "\t  55.882   & 4897      & 357       & 2         & 68        & 16        &  Male     & No        & Yes       & Caucasian &  331     \\\\\n",
       "\t  80.180   & 8047      & 569       & 4         & 77        & 10        &  Male     & No        & No        & Caucasian & 1151     \\\\\n",
       "\\end{tabular}\n"
      ],
      "text/markdown": [
       "\n",
       "Income | Limit | Rating | Cards | Age | Education | Gender | Student | Married | Ethnicity | Balance | \n",
       "|---|---|---|---|---|---|\n",
       "|  14.891   | 3606      | 283       | 2         | 34        | 11        |  Male     | No        | Yes       | Caucasian |  333      | \n",
       "| 106.025   | 6645      | 483       | 3         | 82        | 15        | Female    | Yes       | Yes       | Asian     |  903      | \n",
       "| 104.593   | 7075      | 514       | 4         | 71        | 11        |  Male     | No        | No        | Asian     |  580      | \n",
       "| 148.924   | 9504      | 681       | 3         | 36        | 11        | Female    | No        | No        | Asian     |  964      | \n",
       "|  55.882   | 4897      | 357       | 2         | 68        | 16        |  Male     | No        | Yes       | Caucasian |  331      | \n",
       "|  80.180   | 8047      | 569       | 4         | 77        | 10        |  Male     | No        | No        | Caucasian | 1151      | \n",
       "\n",
       "\n"
      ],
      "text/plain": [
       "  Income  Limit Rating Cards Age Education Gender Student Married Ethnicity\n",
       "1  14.891 3606  283    2     34  11         Male  No      Yes     Caucasian\n",
       "2 106.025 6645  483    3     82  15        Female Yes     Yes     Asian    \n",
       "3 104.593 7075  514    4     71  11         Male  No      No      Asian    \n",
       "4 148.924 9504  681    3     36  11        Female No      No      Asian    \n",
       "5  55.882 4897  357    2     68  16         Male  No      Yes     Caucasian\n",
       "6  80.180 8047  569    4     77  10         Male  No      No      Caucasian\n",
       "  Balance\n",
       "1  333   \n",
       "2  903   \n",
       "3  580   \n",
       "4  964   \n",
       "5  331   \n",
       "6 1151   "
      ]
     },
     "metadata": {},
     "output_type": "display_data"
    }
   ],
   "source": [
    "head(data)"
   ]
  },
  {
   "cell_type": "markdown",
   "metadata": {},
   "source": [
    "The formula `Rating ~ .` regresses `Rating` on every other variable"
   ]
  },
  {
   "cell_type": "markdown",
   "metadata": {},
   "source": [
    "# Backward stepwise regression: `step`"
   ]
  },
  {
   "cell_type": "code",
   "execution_count": 3,
   "metadata": {},
   "outputs": [
    {
     "name": "stdout",
     "output_type": "stream",
     "text": [
      "Start:  AIC=1865.55\n",
      "Rating ~ Income + Limit + Cards + Age + Education + Gender + \n",
      "    Student + Married + Ethnicity + Balance\n",
      "\n",
      "            Df Sum of Sq    RSS    AIC\n",
      "- Gender     1         5  39953 1863.6\n",
      "- Age        1        18  39966 1863.7\n",
      "- Ethnicity  2       247  40195 1864.0\n",
      "- Student    1        53  40001 1864.1\n",
      "<none>                    39948 1865.5\n",
      "- Education  1       212  40160 1865.7\n",
      "- Married    1       522  40470 1868.7\n",
      "- Balance    1       552  40500 1869.0\n",
      "- Income     1       720  40668 1870.7\n",
      "- Cards      1     14230  54178 1985.4\n",
      "- Limit      1    202143 242091 2584.2\n",
      "\n",
      "Step:  AIC=1863.6\n",
      "Rating ~ Income + Limit + Cards + Age + Education + Student + \n",
      "    Married + Ethnicity + Balance\n",
      "\n",
      "            Df Sum of Sq    RSS    AIC\n",
      "- Age        1        18  39971 1861.8\n",
      "- Ethnicity  2       246  40199 1862.0\n",
      "- Student    1        51  40004 1862.1\n",
      "<none>                    39953 1863.6\n",
      "- Education  1       213  40166 1863.7\n",
      "- Married    1       523  40476 1866.8\n",
      "- Balance    1       548  40501 1867.0\n",
      "- Income     1       715  40668 1868.7\n",
      "- Cards      1     14227  54180 1983.4\n",
      "- Limit      1    203001 242954 2583.7\n",
      "\n",
      "Step:  AIC=1861.78\n",
      "Rating ~ Income + Limit + Cards + Education + Student + Married + \n",
      "    Ethnicity + Balance\n",
      "\n",
      "            Df Sum of Sq    RSS    AIC\n",
      "- Student    1        47  40018 1860.2\n",
      "- Ethnicity  2       253  40224 1860.3\n",
      "<none>                    39971 1861.8\n",
      "- Education  1       211  40182 1861.9\n",
      "- Married    1       511  40482 1864.9\n",
      "- Balance    1       533  40504 1865.1\n",
      "- Income     1       714  40685 1866.9\n",
      "- Cards      1     14396  54367 1982.8\n",
      "- Limit      1    204753 244724 2584.6\n",
      "\n",
      "Step:  AIC=1860.25\n",
      "Rating ~ Income + Limit + Cards + Education + Married + Ethnicity + \n",
      "    Balance\n",
      "\n",
      "            Df Sum of Sq    RSS    AIC\n",
      "- Ethnicity  2       253  40271 1858.8\n",
      "<none>                    40018 1860.2\n",
      "- Education  1       229  40247 1860.5\n",
      "- Married    1       523  40541 1863.4\n",
      "- Balance    1       834  40852 1866.5\n",
      "- Income     1       931  40950 1867.5\n",
      "- Cards      1     15829  55847 1991.6\n",
      "- Limit      1    515739 555758 2910.7\n",
      "\n",
      "Step:  AIC=1858.77\n",
      "Rating ~ Income + Limit + Cards + Education + Married + Balance\n",
      "\n",
      "            Df Sum of Sq    RSS    AIC\n",
      "<none>                    40271 1858.8\n",
      "- Education  1       238  40509 1859.1\n",
      "- Married    1       457  40728 1861.3\n",
      "- Balance    1       773  41044 1864.4\n",
      "- Income     1       879  41150 1865.4\n",
      "- Cards      1     15849  56120 1989.5\n",
      "- Limit      1    520764 561035 2910.4\n"
     ]
    },
    {
     "data": {
      "text/plain": [
       "\n",
       "Call:\n",
       "lm(formula = Rating ~ Income + Limit + Cards + Education + Married + \n",
       "    Balance, data = data)\n",
       "\n",
       "Coefficients:\n",
       "(Intercept)       Income        Limit        Cards    Education   MarriedYes  \n",
       "   30.57853      0.09803      0.06411      4.67871     -0.24806      2.20414  \n",
       "    Balance  \n",
       "    0.00859  \n"
      ]
     },
     "metadata": {},
     "output_type": "display_data"
    }
   ],
   "source": [
    "step(lm(Rating ~ ., data), direction = 'backward')"
   ]
  },
  {
   "cell_type": "markdown",
   "metadata": {},
   "source": [
    "# Ridge regression: `glmnet` (package `glmnet`)\n",
    "\n",
    "with option\n",
    "* alpha = 0\n",
    "\n",
    "Does not take a formula argument, but the left hand variable (x vector), and the right hand variables (y matrix)\n",
    "\n",
    "Can construct `x` with `model.matrix` (converts strings/factors to dummies)"
   ]
  },
  {
   "cell_type": "code",
   "execution_count": 4,
   "metadata": {},
   "outputs": [],
   "source": [
    "# Drop missing observations first\n",
    "data = data[complete.cases(data), ]\n",
    "X = model.matrix(Rating ~ ., data)[, -1] # -1 to remove the intercept, glmnet automatically includes one\n",
    "y = data$Rating"
   ]
  },
  {
   "cell_type": "code",
   "execution_count": 5,
   "metadata": {},
   "outputs": [
    {
     "data": {
      "text/html": [
       "<table>\n",
       "<thead><tr><th></th><th scope=col>Income</th><th scope=col>Limit</th><th scope=col>Cards</th><th scope=col>Age</th><th scope=col>Education</th><th scope=col>GenderFemale</th><th scope=col>StudentYes</th><th scope=col>MarriedYes</th><th scope=col>EthnicityAsian</th><th scope=col>EthnicityCaucasian</th><th scope=col>Balance</th></tr></thead>\n",
       "<tbody>\n",
       "\t<tr><th scope=row>1</th><td> 14.891</td><td>3606   </td><td>2      </td><td>34     </td><td>11     </td><td>0      </td><td>0      </td><td>1      </td><td>0      </td><td>1      </td><td> 333   </td></tr>\n",
       "\t<tr><th scope=row>2</th><td>106.025</td><td>6645   </td><td>3      </td><td>82     </td><td>15     </td><td>1      </td><td>1      </td><td>1      </td><td>1      </td><td>0      </td><td> 903   </td></tr>\n",
       "\t<tr><th scope=row>3</th><td>104.593</td><td>7075   </td><td>4      </td><td>71     </td><td>11     </td><td>0      </td><td>0      </td><td>0      </td><td>1      </td><td>0      </td><td> 580   </td></tr>\n",
       "\t<tr><th scope=row>4</th><td>148.924</td><td>9504   </td><td>3      </td><td>36     </td><td>11     </td><td>1      </td><td>0      </td><td>0      </td><td>1      </td><td>0      </td><td> 964   </td></tr>\n",
       "\t<tr><th scope=row>5</th><td> 55.882</td><td>4897   </td><td>2      </td><td>68     </td><td>16     </td><td>0      </td><td>0      </td><td>1      </td><td>0      </td><td>1      </td><td> 331   </td></tr>\n",
       "\t<tr><th scope=row>6</th><td> 80.180</td><td>8047   </td><td>4      </td><td>77     </td><td>10     </td><td>0      </td><td>0      </td><td>0      </td><td>0      </td><td>1      </td><td>1151   </td></tr>\n",
       "</tbody>\n",
       "</table>\n"
      ],
      "text/latex": [
       "\\begin{tabular}{r|lllllllllll}\n",
       "  & Income & Limit & Cards & Age & Education & GenderFemale & StudentYes & MarriedYes & EthnicityAsian & EthnicityCaucasian & Balance\\\\\n",
       "\\hline\n",
       "\t1 &  14.891 & 3606    & 2       & 34      & 11      & 0       & 0       & 1       & 0       & 1       &  333   \\\\\n",
       "\t2 & 106.025 & 6645    & 3       & 82      & 15      & 1       & 1       & 1       & 1       & 0       &  903   \\\\\n",
       "\t3 & 104.593 & 7075    & 4       & 71      & 11      & 0       & 0       & 0       & 1       & 0       &  580   \\\\\n",
       "\t4 & 148.924 & 9504    & 3       & 36      & 11      & 1       & 0       & 0       & 1       & 0       &  964   \\\\\n",
       "\t5 &  55.882 & 4897    & 2       & 68      & 16      & 0       & 0       & 1       & 0       & 1       &  331   \\\\\n",
       "\t6 &  80.180 & 8047    & 4       & 77      & 10      & 0       & 0       & 0       & 0       & 1       & 1151   \\\\\n",
       "\\end{tabular}\n"
      ],
      "text/markdown": [
       "\n",
       "| <!--/--> | Income | Limit | Cards | Age | Education | GenderFemale | StudentYes | MarriedYes | EthnicityAsian | EthnicityCaucasian | Balance | \n",
       "|---|---|---|---|---|---|\n",
       "| 1 |  14.891 | 3606    | 2       | 34      | 11      | 0       | 0       | 1       | 0       | 1       |  333    | \n",
       "| 2 | 106.025 | 6645    | 3       | 82      | 15      | 1       | 1       | 1       | 1       | 0       |  903    | \n",
       "| 3 | 104.593 | 7075    | 4       | 71      | 11      | 0       | 0       | 0       | 1       | 0       |  580    | \n",
       "| 4 | 148.924 | 9504    | 3       | 36      | 11      | 1       | 0       | 0       | 1       | 0       |  964    | \n",
       "| 5 |  55.882 | 4897    | 2       | 68      | 16      | 0       | 0       | 1       | 0       | 1       |  331    | \n",
       "| 6 |  80.180 | 8047    | 4       | 77      | 10      | 0       | 0       | 0       | 0       | 1       | 1151    | \n",
       "\n",
       "\n"
      ],
      "text/plain": [
       "  Income  Limit Cards Age Education GenderFemale StudentYes MarriedYes\n",
       "1  14.891 3606  2     34  11        0            0          1         \n",
       "2 106.025 6645  3     82  15        1            1          1         \n",
       "3 104.593 7075  4     71  11        0            0          0         \n",
       "4 148.924 9504  3     36  11        1            0          0         \n",
       "5  55.882 4897  2     68  16        0            0          1         \n",
       "6  80.180 8047  4     77  10        0            0          0         \n",
       "  EthnicityAsian EthnicityCaucasian Balance\n",
       "1 0              1                   333   \n",
       "2 1              0                   903   \n",
       "3 1              0                   580   \n",
       "4 1              0                   964   \n",
       "5 0              1                   331   \n",
       "6 0              1                  1151   "
      ]
     },
     "metadata": {},
     "output_type": "display_data"
    }
   ],
   "source": [
    "head(X)"
   ]
  },
  {
   "cell_type": "markdown",
   "metadata": {},
   "source": [
    "Fit ridge with an automatic sequence of $\\lambda$'s, the variables are standardized by default\n",
    "(use `standardize = FALSE` to override)"
   ]
  },
  {
   "cell_type": "code",
   "execution_count": 6,
   "metadata": {},
   "outputs": [
    {
     "name": "stderr",
     "output_type": "stream",
     "text": [
      "Warning message:\n",
      "“package ‘glmnet’ was built under R version 3.4.2”Loading required package: Matrix\n",
      "Loading required package: foreach\n",
      "Warning message:\n",
      "“package ‘foreach’ was built under R version 3.4.3”Loaded glmnet 2.0-13\n",
      "\n"
     ]
    }
   ],
   "source": [
    "library(glmnet)\n",
    "ridge = glmnet(X, y, alpha = 0)"
   ]
  },
  {
   "cell_type": "markdown",
   "metadata": {},
   "source": [
    "Three of the generated $\\lambda$'s, from smallest, the middle, and the largest:"
   ]
  },
  {
   "cell_type": "code",
   "execution_count": 7,
   "metadata": {},
   "outputs": [
    {
     "data": {
      "text/html": [
       "<ol class=list-inline>\n",
       "\t<li>15.4048440219529</li>\n",
       "\t<li>1613.83572666655</li>\n",
       "\t<li>154048.440219529</li>\n",
       "</ol>\n"
      ],
      "text/latex": [
       "\\begin{enumerate*}\n",
       "\\item 15.4048440219529\n",
       "\\item 1613.83572666655\n",
       "\\item 154048.440219529\n",
       "\\end{enumerate*}\n"
      ],
      "text/markdown": [
       "1. 15.4048440219529\n",
       "2. 1613.83572666655\n",
       "3. 154048.440219529\n",
       "\n",
       "\n"
      ],
      "text/plain": [
       "[1]     15.40484   1613.83573 154048.44022"
      ]
     },
     "metadata": {},
     "output_type": "display_data"
    }
   ],
   "source": [
    "ridge$lambda[ c(length(ridge$lambda), length(ridge$lambda)/2, 1) ]    "
   ]
  },
  {
   "cell_type": "markdown",
   "metadata": {},
   "source": [
    "The corresponding estimated coefficients for the three $\\lambda$s"
   ]
  },
  {
   "cell_type": "code",
   "execution_count": 8,
   "metadata": {},
   "outputs": [
    {
     "data": {
      "text/plain": [
       "12 x 3 sparse Matrix of class \"dgCMatrix\"\n",
       "                              1             2             3\n",
       "(Intercept)         93.50983985 302.536028622  3.549400e+02\n",
       "Income               1.05431123   0.267492457  3.509281e-36\n",
       "Limit                0.03157811   0.005211713  6.749824e-38\n",
       "Cards                2.22612480   0.466707856  6.067762e-36\n",
       "Age                  0.07979794   0.066107584  9.346974e-37\n",
       "Education           -0.14674871  -0.111754970 -1.507039e-36\n",
       "GenderFemale         1.35391531   0.203892100  2.775319e-36\n",
       "StudentYes         -41.22965958  -0.869970420 -1.054994e-36\n",
       "MarriedYes           3.21444116   0.923958155  1.177489e-35\n",
       "EthnicityAsian      -3.74581195  -0.977058448 -1.289218e-35\n",
       "EthnicityCaucasian  -1.09045277  -0.031800936 -3.339477e-37\n",
       "Balance              0.11175267   0.022597378  2.935743e-37"
      ]
     },
     "metadata": {},
     "output_type": "display_data"
    }
   ],
   "source": [
    "coef(ridge,\n",
    "    s = ridge$lambda[ c(length(ridge$lambda), length(ridge$lambda)/2, 1) ])"
   ]
  },
  {
   "cell_type": "markdown",
   "metadata": {},
   "source": [
    "Fit ridge with a given $\\lambda$"
   ]
  },
  {
   "cell_type": "code",
   "execution_count": 9,
   "metadata": {},
   "outputs": [],
   "source": [
    "ridge2 = glmnet(X, y, alpha = 0, lambda = 15.405)"
   ]
  },
  {
   "cell_type": "code",
   "execution_count": 10,
   "metadata": {},
   "outputs": [
    {
     "data": {
      "text/plain": [
       "12 x 1 sparse Matrix of class \"dgCMatrix\"\n",
       "                             s0\n",
       "(Intercept)         93.30529052\n",
       "Income               1.04964193\n",
       "Limit                0.03169607\n",
       "Cards                2.23434010\n",
       "Age                  0.07997622\n",
       "Education           -0.14788551\n",
       "GenderFemale         1.34759011\n",
       "StudentYes         -41.05845028\n",
       "MarriedYes           3.21555624\n",
       "EthnicityAsian      -3.74218480\n",
       "EthnicityCaucasian  -1.08999331\n",
       "Balance              0.11141128"
      ]
     },
     "metadata": {},
     "output_type": "display_data"
    }
   ],
   "source": [
    "coef(ridge2)"
   ]
  },
  {
   "cell_type": "markdown",
   "metadata": {},
   "source": [
    "# Lasso regression: `glmnet` (package `glmnet`)\n",
    "\n",
    "with option\n",
    "* alpha = 1"
   ]
  },
  {
   "cell_type": "code",
   "execution_count": 11,
   "metadata": {},
   "outputs": [],
   "source": [
    "lasso = glmnet(X, y, alpha = 1, lambda = 15.405)"
   ]
  },
  {
   "cell_type": "code",
   "execution_count": 12,
   "metadata": {},
   "outputs": [
    {
     "data": {
      "text/plain": [
       "12 x 1 sparse Matrix of class \"dgCMatrix\"\n",
       "                            s0\n",
       "(Intercept)        70.13693025\n",
       "Income              .         \n",
       "Limit               0.06014086\n",
       "Cards               .         \n",
       "Age                 .         \n",
       "Education           .         \n",
       "GenderFemale        .         \n",
       "StudentYes          .         \n",
       "MarriedYes          .         \n",
       "EthnicityAsian      .         \n",
       "EthnicityCaucasian  .         \n",
       "Balance             .         "
      ]
     },
     "metadata": {},
     "output_type": "display_data"
    }
   ],
   "source": [
    "coef(lasso)"
   ]
  },
  {
   "cell_type": "markdown",
   "metadata": {},
   "source": [
    "# Split into train and test sample "
   ]
  },
  {
   "cell_type": "markdown",
   "metadata": {},
   "source": [
    "To split evenly, just use `sample` to draw elements from `c(TRUE, FALSE)`"
   ]
  },
  {
   "cell_type": "code",
   "execution_count": 13,
   "metadata": {},
   "outputs": [],
   "source": [
    "train = sample(c(TRUE, FALSE), size = nrow(X), replace = TRUE)"
   ]
  },
  {
   "cell_type": "code",
   "execution_count": 14,
   "metadata": {},
   "outputs": [
    {
     "data": {
      "text/html": [
       "<ol class=list-inline>\n",
       "\t<li>FALSE</li>\n",
       "\t<li>TRUE</li>\n",
       "\t<li>FALSE</li>\n",
       "\t<li>FALSE</li>\n",
       "\t<li>TRUE</li>\n",
       "\t<li>FALSE</li>\n",
       "</ol>\n"
      ],
      "text/latex": [
       "\\begin{enumerate*}\n",
       "\\item FALSE\n",
       "\\item TRUE\n",
       "\\item FALSE\n",
       "\\item FALSE\n",
       "\\item TRUE\n",
       "\\item FALSE\n",
       "\\end{enumerate*}\n"
      ],
      "text/markdown": [
       "1. FALSE\n",
       "2. TRUE\n",
       "3. FALSE\n",
       "4. FALSE\n",
       "5. TRUE\n",
       "6. FALSE\n",
       "\n",
       "\n"
      ],
      "text/plain": [
       "[1] FALSE  TRUE FALSE FALSE  TRUE FALSE"
      ]
     },
     "metadata": {},
     "output_type": "display_data"
    }
   ],
   "source": [
    "head(train)"
   ]
  },
  {
   "cell_type": "code",
   "execution_count": 15,
   "metadata": {},
   "outputs": [
    {
     "data": {
      "text/html": [
       "<ol class=list-inline>\n",
       "\t<li>TRUE</li>\n",
       "\t<li>FALSE</li>\n",
       "\t<li>TRUE</li>\n",
       "\t<li>TRUE</li>\n",
       "\t<li>FALSE</li>\n",
       "\t<li>TRUE</li>\n",
       "</ol>\n"
      ],
      "text/latex": [
       "\\begin{enumerate*}\n",
       "\\item TRUE\n",
       "\\item FALSE\n",
       "\\item TRUE\n",
       "\\item TRUE\n",
       "\\item FALSE\n",
       "\\item TRUE\n",
       "\\end{enumerate*}\n"
      ],
      "text/markdown": [
       "1. TRUE\n",
       "2. FALSE\n",
       "3. TRUE\n",
       "4. TRUE\n",
       "5. FALSE\n",
       "6. TRUE\n",
       "\n",
       "\n"
      ],
      "text/plain": [
       "[1]  TRUE FALSE  TRUE  TRUE FALSE  TRUE"
      ]
     },
     "metadata": {},
     "output_type": "display_data"
    }
   ],
   "source": [
    "head(!train)"
   ]
  },
  {
   "cell_type": "code",
   "execution_count": 16,
   "metadata": {},
   "outputs": [],
   "source": [
    "lasso_train = glmnet(X[train, ], y[train], alpha = 1, lambda = 15.405)"
   ]
  },
  {
   "cell_type": "markdown",
   "metadata": {},
   "source": [
    "The MSE on the test data\n",
    "\n",
    "select the test set with `!train`"
   ]
  },
  {
   "cell_type": "code",
   "execution_count": 17,
   "metadata": {},
   "outputs": [
    {
     "data": {
      "text/html": [
       "393.565831006572"
      ],
      "text/latex": [
       "393.565831006572"
      ],
      "text/markdown": [
       "393.565831006572"
      ],
      "text/plain": [
       "[1] 393.5658"
      ]
     },
     "metadata": {},
     "output_type": "display_data"
    }
   ],
   "source": [
    "prediction = predict(lasso_train, newx = X[!train, ])\n",
    "actual = y[!train]\n",
    "\n",
    "MSE = mean((prediction - actual)^2)\n",
    "MSE"
   ]
  },
  {
   "cell_type": "markdown",
   "metadata": {},
   "source": [
    "# Cross validation: `cv.glmnet` (package `glmnet`) "
   ]
  },
  {
   "cell_type": "markdown",
   "metadata": {},
   "source": [
    "Default is 10-fold cross validation"
   ]
  },
  {
   "cell_type": "code",
   "execution_count": 38,
   "metadata": {},
   "outputs": [],
   "source": [
    "cvlasso = cv.glmnet(X, y, alpha = 1)"
   ]
  },
  {
   "cell_type": "markdown",
   "metadata": {},
   "source": [
    "The optimal $\\lambda$\n",
    "\n",
    "(this will change slightly for every time you run the above line, since `cv.glmnet` chooses\n",
    "the folds randomly)"
   ]
  },
  {
   "cell_type": "code",
   "execution_count": 43,
   "metadata": {
    "scrolled": true
   },
   "outputs": [
    {
     "data": {
      "text/html": [
       "0.579982488563033"
      ],
      "text/latex": [
       "0.579982488563033"
      ],
      "text/markdown": [
       "0.579982488563033"
      ],
      "text/plain": [
       "[1] 0.5799825"
      ]
     },
     "metadata": {},
     "output_type": "display_data"
    }
   ],
   "source": [
    "cvlasso$lambda.min"
   ]
  },
  {
   "cell_type": "markdown",
   "metadata": {},
   "source": [
    "The coefficients for the $\\lambda$ with the smallest MSE"
   ]
  },
  {
   "cell_type": "code",
   "execution_count": 40,
   "metadata": {},
   "outputs": [
    {
     "data": {
      "text/plain": [
       "12 x 1 sparse Matrix of class \"dgCMatrix\"\n",
       "                              1\n",
       "(Intercept)        29.676238566\n",
       "Income              0.062108863\n",
       "Limit               0.064849927\n",
       "Cards               4.334895487\n",
       "Age                 .          \n",
       "Education          -0.061058121\n",
       "GenderFemale        .          \n",
       "StudentYes          .          \n",
       "MarriedYes          0.938052920\n",
       "EthnicityAsian     -0.323949591\n",
       "EthnicityCaucasian  .          \n",
       "Balance             0.005501346"
      ]
     },
     "metadata": {},
     "output_type": "display_data"
    }
   ],
   "source": [
    "coef(cvlasso, s = 'lambda.min')"
   ]
  },
  {
   "cell_type": "markdown",
   "metadata": {},
   "source": [
    "The test set MSE with this $\\lambda$:"
   ]
  },
  {
   "cell_type": "code",
   "execution_count": 41,
   "metadata": {},
   "outputs": [
    {
     "data": {
      "text/html": [
       "108.084340679637"
      ],
      "text/latex": [
       "108.084340679637"
      ],
      "text/markdown": [
       "108.084340679637"
      ],
      "text/plain": [
       "[1] 108.0843"
      ]
     },
     "metadata": {},
     "output_type": "display_data"
    }
   ],
   "source": [
    "lasso_train_cv = glmnet(X[train, ], y[train], alpha = 1, lambda = cvlasso$lambda.min)\n",
    "\n",
    "mean((predict(lasso_train_cv, newx = X[!train, ]) - y[!train])^2)"
   ]
  },
  {
   "cell_type": "code",
   "execution_count": 42,
   "metadata": {},
   "outputs": [
    {
     "data": {
      "text/plain": [
       "12 x 1 sparse Matrix of class \"dgCMatrix\"\n",
       "                             s0\n",
       "(Intercept)        28.681425058\n",
       "Income              0.038026226\n",
       "Limit               0.065812369\n",
       "Cards               4.739452889\n",
       "Age                -0.004087100\n",
       "Education          -0.069020934\n",
       "GenderFemale       -0.212908056\n",
       "StudentYes          .          \n",
       "MarriedYes          0.145552298\n",
       "EthnicityAsian      .          \n",
       "EthnicityCaucasian  .          \n",
       "Balance             0.002163858"
      ]
     },
     "metadata": {},
     "output_type": "display_data"
    }
   ],
   "source": [
    "coef(lasso_train_cv)"
   ]
  }
 ],
 "metadata": {
  "kernelspec": {
   "display_name": "R",
   "language": "R",
   "name": "ir"
  },
  "language_info": {
   "codemirror_mode": "r",
   "file_extension": ".r",
   "mimetype": "text/x-r-source",
   "name": "R",
   "pygments_lexer": "r",
   "version": "3.4.1"
  }
 },
 "nbformat": 4,
 "nbformat_minor": 2
}
