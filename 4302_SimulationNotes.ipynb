{
 "cells": [
  {
   "cell_type": "markdown",
   "metadata": {},
   "source": [
    "# Simple simulations in R (HW4)\n",
    "\n",
    "This is just an example of a quick way of throwing together a simulation model in R, [imperative](https://en.wikipedia.org/wiki/Imperative_programming) style (opposed to the functional approach in the event study example)\n",
    "\n",
    "Encapsulating the population in a function is a nice first step: `getPopulation` returns a data frame with the specified population parameters. Using `gl` it is easy to create the firm factor with levels `1..N`\n"
   ]
  },
  {
   "cell_type": "code",
   "execution_count": 1,
   "metadata": {
    "collapsed": true
   },
   "outputs": [],
   "source": [
    "getPopulation = function(N, T, gamma, beta0 = .1, beta1 = -.2) {\n",
    "  firm = gl(N, T)\n",
    "  a = rnorm(N)[firm]\n",
    "  prof = gamma * a + rnorm(N * T, mean = 0, sd = .25)\n",
    "  lev = beta0 + beta1 * prof + a + rnorm(N * T)\n",
    "\n",
    "  data.frame(time = rep(1:T, N), firm, a, prof, lev)           \n",
    "}"
   ]
  },
  {
   "cell_type": "code",
   "execution_count": 2,
   "metadata": {
    "collapsed": false
   },
   "outputs": [
    {
     "data": {
      "text/html": [
       "<table>\n",
       "<thead><tr><th></th><th scope=col>time</th><th scope=col>firm</th><th scope=col>a</th><th scope=col>prof</th><th scope=col>lev</th></tr></thead>\n",
       "<tbody>\n",
       "\t<tr><th scope=row>1</th><td>1</td><td>1</td><td>-0.993034</td><td>-0.4515975</td><td>0.4764365</td></tr>\n",
       "\t<tr><th scope=row>2</th><td>2</td><td>1</td><td>-0.993034</td><td>0.2936457</td><td>-0.7107503</td></tr>\n",
       "\t<tr><th scope=row>3</th><td>1</td><td>2</td><td>-0.5055087</td><td>0.4372172</td><td>1.665138</td></tr>\n",
       "\t<tr><th scope=row>4</th><td>2</td><td>2</td><td>-0.5055087</td><td>-0.220917</td><td>-0.6538248</td></tr>\n",
       "\t<tr><th scope=row>5</th><td>1</td><td>3</td><td>-0.7284925</td><td>0.422743</td><td>0.1045457</td></tr>\n",
       "\t<tr><th scope=row>6</th><td>2</td><td>3</td><td>-0.7284925</td><td>-0.02529971</td><td>-0.08532578</td></tr>\n",
       "</tbody>\n",
       "</table>\n"
      ],
      "text/latex": [
       "\\begin{tabular}{r|lllll}\n",
       "  & time & firm & a & prof & lev\\\\\n",
       "\\hline\n",
       "\t1 & 1 & 1 & -0.993034 & -0.4515975 & 0.4764365\\\\\n",
       "\t2 & 2 & 1 & -0.993034 & 0.2936457 & -0.7107503\\\\\n",
       "\t3 & 1 & 2 & -0.5055087 & 0.4372172 & 1.665138\\\\\n",
       "\t4 & 2 & 2 & -0.5055087 & -0.220917 & -0.6538248\\\\\n",
       "\t5 & 1 & 3 & -0.7284925 & 0.422743 & 0.1045457\\\\\n",
       "\t6 & 2 & 3 & -0.7284925 & -0.02529971 & -0.08532578\\\\\n",
       "\\end{tabular}\n"
      ],
      "text/plain": [
       "  time firm          a        prof         lev\n",
       "1    1    1 -0.9930340 -0.45159748  0.47643652\n",
       "2    2    1 -0.9930340  0.29364569 -0.71075032\n",
       "3    1    2 -0.5055087  0.43721720  1.66513824\n",
       "4    2    2 -0.5055087 -0.22091696 -0.65382478\n",
       "5    1    3 -0.7284925  0.42274305  0.10454570\n",
       "6    2    3 -0.7284925 -0.02529971 -0.08532578"
      ]
     },
     "execution_count": 2,
     "metadata": {},
     "output_type": "execute_result"
    }
   ],
   "source": [
    "head(getPopulation(100, 2, 0))"
   ]
  },
  {
   "cell_type": "markdown",
   "metadata": {},
   "source": [
    "First of all, since we are only interested in the regression coefficients, we can speed up the simulations quite simply, by avoiding instantiating a whole bunch of `lm` objects:\n",
    "\n",
    "Remember that the OLS estimates are given by the formula $x = (A'A)^{-1} A'b$, or equivalently the `x` that solves\n",
    "$A'Ax = A'b$, where the latter is a standard system of linear equations (i.e. $Bz=y$) that can be solved quickly by `solve()` (which in turn calls a FORTRAN [LAPACK](http://www.netlib.org/lapack/explore-3.1.1-html/dgesv.f.html) routine).\n",
    "\n",
    "So the simple regression coefficients can be calculated with the `lstsq` function:"
   ]
  },
  {
   "cell_type": "code",
   "execution_count": 3,
   "metadata": {
    "collapsed": true
   },
   "outputs": [],
   "source": [
    "lstsq = function(A, b)\n",
    "  solve(crossprod(A), crossprod(A, b))"
   ]
  },
  {
   "cell_type": "markdown",
   "metadata": {},
   "source": [
    "In the case of the **fixed effects dummies**, for this example, it's easier to just leave this to `lm`,  The resulting `A` matrix will be [sparse](https://en.wikipedia.org/wiki/Sparse_matrix), and `solve()` is not a particular good way of speeding this up."
   ]
  },
  {
   "cell_type": "markdown",
   "metadata": {},
   "source": [
    "So, a quick way of encapsulating everything is to\n",
    "\n",
    "* Create an empty matrix `coeffs` to hold the estimated coefficients from each run\n",
    "* For `i` `1..N` generate a population, get the `ols` coefficient, if we want fixed effects (question a and b) get the `fe` coefficients as well\n",
    "* return the mean of the coefficients, with simulated confidence intervals."
   ]
  },
  {
   "cell_type": "code",
   "execution_count": 4,
   "metadata": {
    "collapsed": true
   },
   "outputs": [],
   "source": [
    "runSim = function(Nsim, N, T, gamma, FE = TRUE) {\n",
    "  coeffs = matrix(0, nrow = Nsim, ncol = 2)\n",
    "  \n",
    "  for (i in 1:Nsim) {\n",
    "    df = getPopulation(N, T, gamma)\n",
    "    # ols = lm(lev ~ prof, df)$coefficients[2] #, the same as:\n",
    "    ols = lstsq(cbind(df$prof, rep(1, N * T)), df$lev)[1]\n",
    "    cfs = ols\n",
    "    if (FE) {\n",
    "      fe = lm(lev ~ prof + firm, df)$coefficients[2]\n",
    "      cfs = cbind(cfs, fe)\n",
    "    }\n",
    "    coeffs[i, ] = cfs\n",
    "  }\n",
    "  out = rbind(ols = c(prof = mean(coeffs[, 1]),\n",
    "                      quantile(coeffs[, 1], c(.025, .975))))\n",
    "  if (FE)\n",
    "    out = rbind(out, fe = c(prof = mean(coeffs[, 2]),\n",
    "                            quantile(coeffs[, 2], c(.025, .975))))\n",
    " out \n",
    "}"
   ]
  },
  {
   "cell_type": "markdown",
   "metadata": {},
   "source": [
    "which gives"
   ]
  },
  {
   "cell_type": "markdown",
   "metadata": {},
   "source": [
    "#### Question a) and b)"
   ]
  },
  {
   "cell_type": "code",
   "execution_count": 5,
   "metadata": {
    "collapsed": false
   },
   "outputs": [
    {
     "data": {
      "text/html": [
       "<table>\n",
       "<thead><tr><th></th><th scope=col>prof</th><th scope=col>2.5%</th><th scope=col>97.5%</th></tr></thead>\n",
       "<tbody>\n",
       "\t<tr><th scope=row>ols</th><td>-0.2005488</td><td>-0.9795816</td><td> 0.5633022</td></tr>\n",
       "\t<tr><th scope=row>fe</th><td>-0.2125852</td><td>-0.9937218</td><td> 0.5935432</td></tr>\n",
       "</tbody>\n",
       "</table>\n"
      ],
      "text/latex": [
       "\\begin{tabular}{r|lll}\n",
       "  & prof & 2.5% & 97.5%\\\\\n",
       "\\hline\n",
       "\tols & -0.2005488 & -0.9795816 &  0.5633022\\\\\n",
       "\tfe & -0.2125852 & -0.9937218 &  0.5935432\\\\\n",
       "\\end{tabular}\n"
      ],
      "text/markdown": [
       "1. -0.200548766276054\n",
       "2. -0.212585160352463\n",
       "3. -0.979581575323189\n",
       "4. -0.993721837685231\n",
       "5. 0.563302204226811\n",
       "6. 0.593543188049935\n",
       "\n",
       "\n"
      ],
      "text/plain": [
       "          prof       2.5%     97.5%\n",
       "ols -0.2005488 -0.9795816 0.5633022\n",
       "fe  -0.2125852 -0.9937218 0.5935432"
      ]
     },
     "execution_count": 5,
     "metadata": {},
     "output_type": "execute_result"
    },
    {
     "data": {
      "text/html": [
       "<table>\n",
       "<thead><tr><th></th><th scope=col>prof</th><th scope=col>2.5%</th><th scope=col>97.5%</th></tr></thead>\n",
       "<tbody>\n",
       "\t<tr><th scope=row>ols</th><td>1.0622605</td><td>0.8708411</td><td>1.2498709</td></tr>\n",
       "\t<tr><th scope=row>fe</th><td>-0.1862344</td><td>-0.9774512</td><td> 0.5866154</td></tr>\n",
       "</tbody>\n",
       "</table>\n"
      ],
      "text/latex": [
       "\\begin{tabular}{r|lll}\n",
       "  & prof & 2.5% & 97.5%\\\\\n",
       "\\hline\n",
       "\tols & 1.0622605 & 0.8708411 & 1.2498709\\\\\n",
       "\tfe & -0.1862344 & -0.9774512 &  0.5866154\\\\\n",
       "\\end{tabular}\n"
      ],
      "text/markdown": [
       "1. 1.06226053650255\n",
       "2. -0.186234359486031\n",
       "3. 0.870841133292475\n",
       "4. -0.977451179906412\n",
       "5. 1.2498709376134\n",
       "6. 0.586615415529682\n",
       "\n",
       "\n"
      ],
      "text/plain": [
       "          prof       2.5%     97.5%\n",
       "ols  1.0622605  0.8708411 1.2498709\n",
       "fe  -0.1862344 -0.9774512 0.5866154"
      ]
     },
     "execution_count": 5,
     "metadata": {},
     "output_type": "execute_result"
    }
   ],
   "source": [
    "Nsim = 1000\n",
    "runSim(Nsim, 100, 2, 0.0)\n",
    "runSim(Nsim, 100, 2, .7)"
   ]
  },
  {
   "cell_type": "markdown",
   "metadata": {},
   "source": [
    "####  Question d)"
   ]
  },
  {
   "cell_type": "code",
   "execution_count": 6,
   "metadata": {
    "collapsed": false
   },
   "outputs": [
    {
     "data": {
      "text/html": [
       "<table>\n",
       "<thead><tr><th></th><th scope=col>prof</th><th scope=col>2.5%</th><th scope=col>97.5%</th></tr></thead>\n",
       "<tbody>\n",
       "\t<tr><th scope=row>ols</th><td>-0.1850265</td><td>-1.2855690</td><td> 0.9929154</td></tr>\n",
       "</tbody>\n",
       "</table>\n"
      ],
      "text/latex": [
       "\\begin{tabular}{r|lll}\n",
       "  & prof & 2.5% & 97.5%\\\\\n",
       "\\hline\n",
       "\tols & -0.1850265 & -1.2855690 &  0.9929154\\\\\n",
       "\\end{tabular}\n"
      ],
      "text/markdown": [
       "1. -0.185026524926885\n",
       "2. -1.28556899186074\n",
       "3. 0.992915445803086\n",
       "\n",
       "\n"
      ],
      "text/plain": [
       "          prof      2.5%     97.5%\n",
       "ols -0.1850265 -1.285569 0.9929154"
      ]
     },
     "execution_count": 6,
     "metadata": {},
     "output_type": "execute_result"
    },
    {
     "data": {
      "text/html": [
       "<table>\n",
       "<thead><tr><th></th><th scope=col>prof</th><th scope=col>2.5%</th><th scope=col>97.5%</th></tr></thead>\n",
       "<tbody>\n",
       "\t<tr><th scope=row>ols</th><td>-0.19706206</td><td>-0.43672359</td><td> 0.05357798</td></tr>\n",
       "</tbody>\n",
       "</table>\n"
      ],
      "text/latex": [
       "\\begin{tabular}{r|lll}\n",
       "  & prof & 2.5% & 97.5%\\\\\n",
       "\\hline\n",
       "\tols & -0.19706206 & -0.43672359 &  0.05357798\\\\\n",
       "\\end{tabular}\n"
      ],
      "text/markdown": [
       "1. -0.197062057870875\n",
       "2. -0.436723585017401\n",
       "3. 0.0535779761325178\n",
       "\n",
       "\n"
      ],
      "text/plain": [
       "          prof       2.5%      97.5%\n",
       "ols -0.1970621 -0.4367236 0.05357798"
      ]
     },
     "execution_count": 6,
     "metadata": {},
     "output_type": "execute_result"
    }
   ],
   "source": [
    "runSim(Nsim, 50, 2, 0, FALSE)\n",
    "runSim(Nsim, 1000, 2, 0, FALSE)"
   ]
  },
  {
   "cell_type": "markdown",
   "metadata": {},
   "source": [
    "#### Question e)"
   ]
  },
  {
   "cell_type": "code",
   "execution_count": 7,
   "metadata": {
    "collapsed": false
   },
   "outputs": [
    {
     "data": {
      "text/html": [
       "<table>\n",
       "<thead><tr><th></th><th scope=col>prof</th><th scope=col>2.5%</th><th scope=col>97.5%</th></tr></thead>\n",
       "<tbody>\n",
       "\t<tr><th scope=row>ols</th><td>-0.1941472</td><td>-0.3382455</td><td>-0.0436800</td></tr>\n",
       "</tbody>\n",
       "</table>\n"
      ],
      "text/latex": [
       "\\begin{tabular}{r|lll}\n",
       "  & prof & 2.5% & 97.5%\\\\\n",
       "\\hline\n",
       "\tols & -0.1941472 & -0.3382455 & -0.0436800\\\\\n",
       "\\end{tabular}\n"
      ],
      "text/markdown": [
       "1. -0.194147215028769\n",
       "2. -0.338245481042161\n",
       "3. -0.0436800004510652\n",
       "\n",
       "\n"
      ],
      "text/plain": [
       "          prof       2.5%    97.5%\n",
       "ols -0.1941472 -0.3382455 -0.04368"
      ]
     },
     "execution_count": 7,
     "metadata": {},
     "output_type": "execute_result"
    },
    {
     "data": {
      "text/html": [
       "<table>\n",
       "<thead><tr><th></th><th scope=col>prof</th><th scope=col>2.5%</th><th scope=col>97.5%</th></tr></thead>\n",
       "<tbody>\n",
       "\t<tr><th scope=row>ols</th><td>-0.2001777</td><td>-0.2350773</td><td>-0.1659204</td></tr>\n",
       "</tbody>\n",
       "</table>\n"
      ],
      "text/latex": [
       "\\begin{tabular}{r|lll}\n",
       "  & prof & 2.5% & 97.5%\\\\\n",
       "\\hline\n",
       "\tols & -0.2001777 & -0.2350773 & -0.1659204\\\\\n",
       "\\end{tabular}\n"
      ],
      "text/markdown": [
       "1. -0.200177716054107\n",
       "2. -0.235077298828205\n",
       "3. -0.165920418519631\n",
       "\n",
       "\n"
      ],
      "text/plain": [
       "          prof       2.5%      97.5%\n",
       "ols -0.2001777 -0.2350773 -0.1659204"
      ]
     },
     "execution_count": 7,
     "metadata": {},
     "output_type": "execute_result"
    }
   ],
   "source": [
    "runSim(Nsim, 100, 50, 0, FALSE)\n",
    "runSim(Nsim, 100, 1000, 0, FALSE)"
   ]
  }
 ],
 "metadata": {
  "kernelspec": {
   "display_name": "R",
   "language": "R",
   "name": "ir"
  },
  "language_info": {
   "codemirror_mode": "r",
   "file_extension": ".r",
   "mimetype": "text/x-r-source",
   "name": "R",
   "pygments_lexer": "r",
   "version": "3.2.3"
  }
 },
 "nbformat": 4,
 "nbformat_minor": 0
}
