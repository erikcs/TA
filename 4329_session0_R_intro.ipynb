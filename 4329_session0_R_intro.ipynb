{
 "cells": [
  {
   "cell_type": "markdown",
   "metadata": {},
   "source": [
    "# Course 4329 - short R refresher "
   ]
  },
  {
   "cell_type": "markdown",
   "metadata": {},
   "source": [
    "### Install packages:"
   ]
  },
  {
   "cell_type": "code",
   "execution_count": 1,
   "metadata": {},
   "outputs": [],
   "source": [
    "install.packages('dplyr')"
   ]
  },
  {
   "cell_type": "markdown",
   "metadata": {},
   "source": [
    "#### Load packages"
   ]
  },
  {
   "cell_type": "code",
   "execution_count": 3,
   "metadata": {},
   "outputs": [],
   "source": [
    "library(dplyr)"
   ]
  },
  {
   "cell_type": "markdown",
   "metadata": {},
   "source": [
    "##### Get help"
   ]
  },
  {
   "cell_type": "code",
   "execution_count": 4,
   "metadata": {},
   "outputs": [],
   "source": [
    "?dplyr"
   ]
  },
  {
   "cell_type": "markdown",
   "metadata": {},
   "source": [
    "##### Working through an example"
   ]
  },
  {
   "cell_type": "markdown",
   "metadata": {},
   "source": [
    "#### Load the  Monthly and Quarterly Databases for Macroeconomic Research from the Federal Reserve"
   ]
  },
  {
   "cell_type": "code",
   "execution_count": 1,
   "metadata": {},
   "outputs": [],
   "source": [
    "data = read.csv('https://files.stlouisfed.org/files/htdocs/fred-databases/monthly/current.csv')"
   ]
  },
  {
   "cell_type": "code",
   "execution_count": 2,
   "metadata": {},
   "outputs": [
    {
     "data": {
      "text/html": [
       "<table>\n",
       "<thead><tr><th scope=col>sasdate</th><th scope=col>RPI</th><th scope=col>W875RX1</th><th scope=col>DPCERA3M086SBEA</th><th scope=col>CMRMTSPLx</th><th scope=col>RETAILx</th><th scope=col>INDPRO</th><th scope=col>IPFPNSS</th><th scope=col>IPFINAL</th><th scope=col>IPCONGD</th><th scope=col>⋯</th><th scope=col>DSERRG3M086SBEA</th><th scope=col>CES0600000008</th><th scope=col>CES2000000008</th><th scope=col>CES3000000008</th><th scope=col>UMCSENTx</th><th scope=col>MZMSL</th><th scope=col>DTCOLNVHFNM</th><th scope=col>DTCTHFNM</th><th scope=col>INVEST</th><th scope=col>VXOCLSx</th></tr></thead>\n",
       "<tbody>\n",
       "\t<tr><td>Transform:</td><td>   5.000  </td><td>   5.0    </td><td> 5.000    </td><td>     5.0  </td><td>    5.00  </td><td> 5.0000   </td><td> 5.0000   </td><td> 5.0000   </td><td> 5.0000   </td><td>⋯         </td><td> 6.000    </td><td>6.00      </td><td>6.00      </td><td>6.00      </td><td> 2.0      </td><td>  6.0     </td><td>   6      </td><td>    6     </td><td> 6.0000   </td><td> 1        </td></tr>\n",
       "\t<tr><td>1/1/1959  </td><td>2289.932  </td><td>2151.8    </td><td>18.191    </td><td>255861.9  </td><td>18234.44  </td><td>22.7253   </td><td>23.6124   </td><td>22.3645   </td><td>32.4403   </td><td>⋯         </td><td>12.133    </td><td>2.13      </td><td>2.45      </td><td>2.04      </td><td>  NA      </td><td>274.9     </td><td>6476      </td><td>12298     </td><td>84.2043   </td><td>NA        </td></tr>\n",
       "\t<tr><td>2/1/1959  </td><td>2299.790  </td><td>2160.4    </td><td>18.380    </td><td>257783.6  </td><td>18368.22  </td><td>23.1703   </td><td>23.9311   </td><td>22.5582   </td><td>32.6782   </td><td>⋯         </td><td>12.149    </td><td>2.13      </td><td>2.46      </td><td>2.05      </td><td>  NA      </td><td>276.0     </td><td>6476      </td><td>12298     </td><td>83.5280   </td><td>NA        </td></tr>\n",
       "\t<tr><td>3/1/1959  </td><td>2314.456  </td><td>2176.2    </td><td>18.555    </td><td>256866.4  </td><td>18521.70  </td><td>23.5041   </td><td>24.0760   </td><td>22.6689   </td><td>32.6782   </td><td>⋯         </td><td>12.169    </td><td>2.15      </td><td>2.45      </td><td>2.07      </td><td>  NA      </td><td>277.4     </td><td>6508      </td><td>12349     </td><td>81.6405   </td><td>NA        </td></tr>\n",
       "\t<tr><td>4/1/1959  </td><td>2328.668  </td><td>2190.7    </td><td>18.488    </td><td>262043.8  </td><td>18533.11  </td><td>24.0048   </td><td>24.4237   </td><td>23.0011   </td><td>33.1937   </td><td>⋯         </td><td>12.211    </td><td>2.16      </td><td>2.47      </td><td>2.08      </td><td>  NA      </td><td>278.1     </td><td>6620      </td><td>12484     </td><td>81.8099   </td><td>NA        </td></tr>\n",
       "\t<tr><td>5/1/1959  </td><td>2342.767  </td><td>2205.7    </td><td>18.710    </td><td>263871.7  </td><td>18678.30  </td><td>24.3664   </td><td>24.6265   </td><td>23.2225   </td><td>33.3524   </td><td>⋯         </td><td>12.230    </td><td>2.17      </td><td>2.48      </td><td>2.08      </td><td>95.3      </td><td>280.1     </td><td>6753      </td><td>12646     </td><td>80.7315   </td><td>NA        </td></tr>\n",
       "</tbody>\n",
       "</table>\n"
      ],
      "text/latex": [
       "\\begin{tabular}{r|lllllllllllllllllllllllllllllllllllllllllllllllllllllllllllllllllllllllllllllllllllllllllllllllllllllllllllllllllllllllllllllllll}\n",
       " sasdate & RPI & W875RX1 & DPCERA3M086SBEA & CMRMTSPLx & RETAILx & INDPRO & IPFPNSS & IPFINAL & IPCONGD & ⋯ & DSERRG3M086SBEA & CES0600000008 & CES2000000008 & CES3000000008 & UMCSENTx & MZMSL & DTCOLNVHFNM & DTCTHFNM & INVEST & VXOCLSx\\\\\n",
       "\\hline\n",
       "\t Transform: &    5.000   &    5.0     &  5.000     &      5.0   &     5.00   &  5.0000    &  5.0000    &  5.0000    &  5.0000    & ⋯          &  6.000     & 6.00       & 6.00       & 6.00       &  2.0       &   6.0      &    6       &     6      &  6.0000    &  1        \\\\\n",
       "\t 1/1/1959   & 2289.932   & 2151.8     & 18.191     & 255861.9   & 18234.44   & 22.7253    & 23.6124    & 22.3645    & 32.4403    & ⋯          & 12.133     & 2.13       & 2.45       & 2.04       &   NA       & 274.9      & 6476       & 12298      & 84.2043    & NA        \\\\\n",
       "\t 2/1/1959   & 2299.790   & 2160.4     & 18.380     & 257783.6   & 18368.22   & 23.1703    & 23.9311    & 22.5582    & 32.6782    & ⋯          & 12.149     & 2.13       & 2.46       & 2.05       &   NA       & 276.0      & 6476       & 12298      & 83.5280    & NA        \\\\\n",
       "\t 3/1/1959   & 2314.456   & 2176.2     & 18.555     & 256866.4   & 18521.70   & 23.5041    & 24.0760    & 22.6689    & 32.6782    & ⋯          & 12.169     & 2.15       & 2.45       & 2.07       &   NA       & 277.4      & 6508       & 12349      & 81.6405    & NA        \\\\\n",
       "\t 4/1/1959   & 2328.668   & 2190.7     & 18.488     & 262043.8   & 18533.11   & 24.0048    & 24.4237    & 23.0011    & 33.1937    & ⋯          & 12.211     & 2.16       & 2.47       & 2.08       &   NA       & 278.1      & 6620       & 12484      & 81.8099    & NA        \\\\\n",
       "\t 5/1/1959   & 2342.767   & 2205.7     & 18.710     & 263871.7   & 18678.30   & 24.3664    & 24.6265    & 23.2225    & 33.3524    & ⋯          & 12.230     & 2.17       & 2.48       & 2.08       & 95.3       & 280.1      & 6753       & 12646      & 80.7315    & NA        \\\\\n",
       "\\end{tabular}\n"
      ],
      "text/markdown": [
       "\n",
       "sasdate | RPI | W875RX1 | DPCERA3M086SBEA | CMRMTSPLx | RETAILx | INDPRO | IPFPNSS | IPFINAL | IPCONGD | ⋯ | DSERRG3M086SBEA | CES0600000008 | CES2000000008 | CES3000000008 | UMCSENTx | MZMSL | DTCOLNVHFNM | DTCTHFNM | INVEST | VXOCLSx | \n",
       "|---|---|---|---|---|---|\n",
       "| Transform: |    5.000   |    5.0     |  5.000     |      5.0   |     5.00   |  5.0000    |  5.0000    |  5.0000    |  5.0000    | ⋯          |  6.000     | 6.00       | 6.00       | 6.00       |  2.0       |   6.0      |    6       |     6      |  6.0000    |  1         | \n",
       "| 1/1/1959   | 2289.932   | 2151.8     | 18.191     | 255861.9   | 18234.44   | 22.7253    | 23.6124    | 22.3645    | 32.4403    | ⋯          | 12.133     | 2.13       | 2.45       | 2.04       |   NA       | 274.9      | 6476       | 12298      | 84.2043    | NA         | \n",
       "| 2/1/1959   | 2299.790   | 2160.4     | 18.380     | 257783.6   | 18368.22   | 23.1703    | 23.9311    | 22.5582    | 32.6782    | ⋯          | 12.149     | 2.13       | 2.46       | 2.05       |   NA       | 276.0      | 6476       | 12298      | 83.5280    | NA         | \n",
       "| 3/1/1959   | 2314.456   | 2176.2     | 18.555     | 256866.4   | 18521.70   | 23.5041    | 24.0760    | 22.6689    | 32.6782    | ⋯          | 12.169     | 2.15       | 2.45       | 2.07       |   NA       | 277.4      | 6508       | 12349      | 81.6405    | NA         | \n",
       "| 4/1/1959   | 2328.668   | 2190.7     | 18.488     | 262043.8   | 18533.11   | 24.0048    | 24.4237    | 23.0011    | 33.1937    | ⋯          | 12.211     | 2.16       | 2.47       | 2.08       |   NA       | 278.1      | 6620       | 12484      | 81.8099    | NA         | \n",
       "| 5/1/1959   | 2342.767   | 2205.7     | 18.710     | 263871.7   | 18678.30   | 24.3664    | 24.6265    | 23.2225    | 33.3524    | ⋯          | 12.230     | 2.17       | 2.48       | 2.08       | 95.3       | 280.1      | 6753       | 12646      | 80.7315    | NA         | \n",
       "\n",
       "\n"
      ],
      "text/plain": [
       "  sasdate    RPI      W875RX1 DPCERA3M086SBEA CMRMTSPLx RETAILx  INDPRO \n",
       "1 Transform:    5.000    5.0   5.000               5.0      5.00  5.0000\n",
       "2 1/1/1959   2289.932 2151.8  18.191          255861.9  18234.44 22.7253\n",
       "3 2/1/1959   2299.790 2160.4  18.380          257783.6  18368.22 23.1703\n",
       "4 3/1/1959   2314.456 2176.2  18.555          256866.4  18521.70 23.5041\n",
       "5 4/1/1959   2328.668 2190.7  18.488          262043.8  18533.11 24.0048\n",
       "6 5/1/1959   2342.767 2205.7  18.710          263871.7  18678.30 24.3664\n",
       "  IPFPNSS IPFINAL IPCONGD ⋯ DSERRG3M086SBEA CES0600000008 CES2000000008\n",
       "1  5.0000  5.0000  5.0000 ⋯  6.000          6.00          6.00         \n",
       "2 23.6124 22.3645 32.4403 ⋯ 12.133          2.13          2.45         \n",
       "3 23.9311 22.5582 32.6782 ⋯ 12.149          2.13          2.46         \n",
       "4 24.0760 22.6689 32.6782 ⋯ 12.169          2.15          2.45         \n",
       "5 24.4237 23.0011 33.1937 ⋯ 12.211          2.16          2.47         \n",
       "6 24.6265 23.2225 33.3524 ⋯ 12.230          2.17          2.48         \n",
       "  CES3000000008 UMCSENTx MZMSL DTCOLNVHFNM DTCTHFNM INVEST  VXOCLSx\n",
       "1 6.00           2.0       6.0    6            6     6.0000  1     \n",
       "2 2.04            NA     274.9 6476        12298    84.2043 NA     \n",
       "3 2.05            NA     276.0 6476        12298    83.5280 NA     \n",
       "4 2.07            NA     277.4 6508        12349    81.6405 NA     \n",
       "5 2.08            NA     278.1 6620        12484    81.8099 NA     \n",
       "6 2.08          95.3     280.1 6753        12646    80.7315 NA     "
      ]
     },
     "metadata": {},
     "output_type": "display_data"
    }
   ],
   "source": [
    "head(data)"
   ]
  },
  {
   "cell_type": "markdown",
   "metadata": {},
   "source": [
    "##### The first row is useless, drop it using subsetting\n",
    "also just keep the first 10 columns/variables"
   ]
  },
  {
   "cell_type": "code",
   "execution_count": 3,
   "metadata": {},
   "outputs": [
    {
     "data": {
      "text/html": [
       "<table>\n",
       "<thead><tr><th></th><th scope=col>sasdate</th><th scope=col>RPI</th><th scope=col>W875RX1</th><th scope=col>DPCERA3M086SBEA</th><th scope=col>CMRMTSPLx</th><th scope=col>RETAILx</th><th scope=col>INDPRO</th><th scope=col>IPFPNSS</th><th scope=col>IPFINAL</th><th scope=col>IPCONGD</th></tr></thead>\n",
       "<tbody>\n",
       "\t<tr><th scope=row>2</th><td>1/1/1959</td><td>2289.932</td><td>2151.8  </td><td>18.191  </td><td>255861.9</td><td>18234.44</td><td>22.7253 </td><td>23.6124 </td><td>22.3645 </td><td>32.4403 </td></tr>\n",
       "\t<tr><th scope=row>3</th><td>2/1/1959</td><td>2299.790</td><td>2160.4  </td><td>18.380  </td><td>257783.6</td><td>18368.22</td><td>23.1703 </td><td>23.9311 </td><td>22.5582 </td><td>32.6782 </td></tr>\n",
       "\t<tr><th scope=row>4</th><td>3/1/1959</td><td>2314.456</td><td>2176.2  </td><td>18.555  </td><td>256866.4</td><td>18521.70</td><td>23.5041 </td><td>24.0760 </td><td>22.6689 </td><td>32.6782 </td></tr>\n",
       "\t<tr><th scope=row>5</th><td>4/1/1959</td><td>2328.668</td><td>2190.7  </td><td>18.488  </td><td>262043.8</td><td>18533.11</td><td>24.0048 </td><td>24.4237 </td><td>23.0011 </td><td>33.1937 </td></tr>\n",
       "\t<tr><th scope=row>6</th><td>5/1/1959</td><td>2342.767</td><td>2205.7  </td><td>18.710  </td><td>263871.7</td><td>18678.30</td><td>24.3664 </td><td>24.6265 </td><td>23.2225 </td><td>33.3524 </td></tr>\n",
       "\t<tr><th scope=row>7</th><td>6/1/1959</td><td>2350.325</td><td>2212.8  </td><td>18.779  </td><td>263840.0</td><td>18848.37</td><td>24.3942 </td><td>24.8003 </td><td>23.3886 </td><td>33.1938 </td></tr>\n",
       "</tbody>\n",
       "</table>\n"
      ],
      "text/latex": [
       "\\begin{tabular}{r|llllllllll}\n",
       "  & sasdate & RPI & W875RX1 & DPCERA3M086SBEA & CMRMTSPLx & RETAILx & INDPRO & IPFPNSS & IPFINAL & IPCONGD\\\\\n",
       "\\hline\n",
       "\t2 & 1/1/1959 & 2289.932 & 2151.8   & 18.191   & 255861.9 & 18234.44 & 22.7253  & 23.6124  & 22.3645  & 32.4403 \\\\\n",
       "\t3 & 2/1/1959 & 2299.790 & 2160.4   & 18.380   & 257783.6 & 18368.22 & 23.1703  & 23.9311  & 22.5582  & 32.6782 \\\\\n",
       "\t4 & 3/1/1959 & 2314.456 & 2176.2   & 18.555   & 256866.4 & 18521.70 & 23.5041  & 24.0760  & 22.6689  & 32.6782 \\\\\n",
       "\t5 & 4/1/1959 & 2328.668 & 2190.7   & 18.488   & 262043.8 & 18533.11 & 24.0048  & 24.4237  & 23.0011  & 33.1937 \\\\\n",
       "\t6 & 5/1/1959 & 2342.767 & 2205.7   & 18.710   & 263871.7 & 18678.30 & 24.3664  & 24.6265  & 23.2225  & 33.3524 \\\\\n",
       "\t7 & 6/1/1959 & 2350.325 & 2212.8   & 18.779   & 263840.0 & 18848.37 & 24.3942  & 24.8003  & 23.3886  & 33.1938 \\\\\n",
       "\\end{tabular}\n"
      ],
      "text/markdown": [
       "\n",
       "| <!--/--> | sasdate | RPI | W875RX1 | DPCERA3M086SBEA | CMRMTSPLx | RETAILx | INDPRO | IPFPNSS | IPFINAL | IPCONGD | \n",
       "|---|---|---|---|---|---|\n",
       "| 2 | 1/1/1959 | 2289.932 | 2151.8   | 18.191   | 255861.9 | 18234.44 | 22.7253  | 23.6124  | 22.3645  | 32.4403  | \n",
       "| 3 | 2/1/1959 | 2299.790 | 2160.4   | 18.380   | 257783.6 | 18368.22 | 23.1703  | 23.9311  | 22.5582  | 32.6782  | \n",
       "| 4 | 3/1/1959 | 2314.456 | 2176.2   | 18.555   | 256866.4 | 18521.70 | 23.5041  | 24.0760  | 22.6689  | 32.6782  | \n",
       "| 5 | 4/1/1959 | 2328.668 | 2190.7   | 18.488   | 262043.8 | 18533.11 | 24.0048  | 24.4237  | 23.0011  | 33.1937  | \n",
       "| 6 | 5/1/1959 | 2342.767 | 2205.7   | 18.710   | 263871.7 | 18678.30 | 24.3664  | 24.6265  | 23.2225  | 33.3524  | \n",
       "| 7 | 6/1/1959 | 2350.325 | 2212.8   | 18.779   | 263840.0 | 18848.37 | 24.3942  | 24.8003  | 23.3886  | 33.1938  | \n",
       "\n",
       "\n"
      ],
      "text/plain": [
       "  sasdate  RPI      W875RX1 DPCERA3M086SBEA CMRMTSPLx RETAILx  INDPRO  IPFPNSS\n",
       "2 1/1/1959 2289.932 2151.8  18.191          255861.9  18234.44 22.7253 23.6124\n",
       "3 2/1/1959 2299.790 2160.4  18.380          257783.6  18368.22 23.1703 23.9311\n",
       "4 3/1/1959 2314.456 2176.2  18.555          256866.4  18521.70 23.5041 24.0760\n",
       "5 4/1/1959 2328.668 2190.7  18.488          262043.8  18533.11 24.0048 24.4237\n",
       "6 5/1/1959 2342.767 2205.7  18.710          263871.7  18678.30 24.3664 24.6265\n",
       "7 6/1/1959 2350.325 2212.8  18.779          263840.0  18848.37 24.3942 24.8003\n",
       "  IPFINAL IPCONGD\n",
       "2 22.3645 32.4403\n",
       "3 22.5582 32.6782\n",
       "4 22.6689 32.6782\n",
       "5 23.0011 33.1937\n",
       "6 23.2225 33.3524\n",
       "7 23.3886 33.1938"
      ]
     },
     "metadata": {},
     "output_type": "display_data"
    }
   ],
   "source": [
    "data = data[-1, 1:10]\n",
    "# Same as\n",
    "# data <- data = data[-1, 1:10]\n",
    "head(data)"
   ]
  },
  {
   "cell_type": "markdown",
   "metadata": {},
   "source": [
    "Note: the two assignment operators (`=` and `<-`) are equivalent*\n",
    "\n",
    "\\* (except when used in a function call)"
   ]
  },
  {
   "cell_type": "markdown",
   "metadata": {},
   "source": [
    "#### Convert the date string column to a date variable"
   ]
  },
  {
   "cell_type": "code",
   "execution_count": 4,
   "metadata": {},
   "outputs": [
    {
     "data": {
      "text/html": [
       "<table>\n",
       "<thead><tr><th></th><th scope=col>sasdate</th><th scope=col>RPI</th><th scope=col>W875RX1</th><th scope=col>DPCERA3M086SBEA</th><th scope=col>CMRMTSPLx</th><th scope=col>RETAILx</th><th scope=col>INDPRO</th><th scope=col>IPFPNSS</th><th scope=col>IPFINAL</th><th scope=col>IPCONGD</th></tr></thead>\n",
       "<tbody>\n",
       "\t<tr><th scope=row>2</th><td>1959-01-01</td><td>2289.932  </td><td>2151.8    </td><td>18.191    </td><td>255861.9  </td><td>18234.44  </td><td>22.7253   </td><td>23.6124   </td><td>22.3645   </td><td>32.4403   </td></tr>\n",
       "\t<tr><th scope=row>3</th><td>1959-02-01</td><td>2299.790  </td><td>2160.4    </td><td>18.380    </td><td>257783.6  </td><td>18368.22  </td><td>23.1703   </td><td>23.9311   </td><td>22.5582   </td><td>32.6782   </td></tr>\n",
       "\t<tr><th scope=row>4</th><td>1959-03-01</td><td>2314.456  </td><td>2176.2    </td><td>18.555    </td><td>256866.4  </td><td>18521.70  </td><td>23.5041   </td><td>24.0760   </td><td>22.6689   </td><td>32.6782   </td></tr>\n",
       "\t<tr><th scope=row>5</th><td>1959-04-01</td><td>2328.668  </td><td>2190.7    </td><td>18.488    </td><td>262043.8  </td><td>18533.11  </td><td>24.0048   </td><td>24.4237   </td><td>23.0011   </td><td>33.1937   </td></tr>\n",
       "\t<tr><th scope=row>6</th><td>1959-05-01</td><td>2342.767  </td><td>2205.7    </td><td>18.710    </td><td>263871.7  </td><td>18678.30  </td><td>24.3664   </td><td>24.6265   </td><td>23.2225   </td><td>33.3524   </td></tr>\n",
       "\t<tr><th scope=row>7</th><td>1959-06-01</td><td>2350.325  </td><td>2212.8    </td><td>18.779    </td><td>263840.0  </td><td>18848.37  </td><td>24.3942   </td><td>24.8003   </td><td>23.3886   </td><td>33.1938   </td></tr>\n",
       "</tbody>\n",
       "</table>\n"
      ],
      "text/latex": [
       "\\begin{tabular}{r|llllllllll}\n",
       "  & sasdate & RPI & W875RX1 & DPCERA3M086SBEA & CMRMTSPLx & RETAILx & INDPRO & IPFPNSS & IPFINAL & IPCONGD\\\\\n",
       "\\hline\n",
       "\t2 & 1959-01-01 & 2289.932   & 2151.8     & 18.191     & 255861.9   & 18234.44   & 22.7253    & 23.6124    & 22.3645    & 32.4403   \\\\\n",
       "\t3 & 1959-02-01 & 2299.790   & 2160.4     & 18.380     & 257783.6   & 18368.22   & 23.1703    & 23.9311    & 22.5582    & 32.6782   \\\\\n",
       "\t4 & 1959-03-01 & 2314.456   & 2176.2     & 18.555     & 256866.4   & 18521.70   & 23.5041    & 24.0760    & 22.6689    & 32.6782   \\\\\n",
       "\t5 & 1959-04-01 & 2328.668   & 2190.7     & 18.488     & 262043.8   & 18533.11   & 24.0048    & 24.4237    & 23.0011    & 33.1937   \\\\\n",
       "\t6 & 1959-05-01 & 2342.767   & 2205.7     & 18.710     & 263871.7   & 18678.30   & 24.3664    & 24.6265    & 23.2225    & 33.3524   \\\\\n",
       "\t7 & 1959-06-01 & 2350.325   & 2212.8     & 18.779     & 263840.0   & 18848.37   & 24.3942    & 24.8003    & 23.3886    & 33.1938   \\\\\n",
       "\\end{tabular}\n"
      ],
      "text/markdown": [
       "\n",
       "| <!--/--> | sasdate | RPI | W875RX1 | DPCERA3M086SBEA | CMRMTSPLx | RETAILx | INDPRO | IPFPNSS | IPFINAL | IPCONGD | \n",
       "|---|---|---|---|---|---|\n",
       "| 2 | 1959-01-01 | 2289.932   | 2151.8     | 18.191     | 255861.9   | 18234.44   | 22.7253    | 23.6124    | 22.3645    | 32.4403    | \n",
       "| 3 | 1959-02-01 | 2299.790   | 2160.4     | 18.380     | 257783.6   | 18368.22   | 23.1703    | 23.9311    | 22.5582    | 32.6782    | \n",
       "| 4 | 1959-03-01 | 2314.456   | 2176.2     | 18.555     | 256866.4   | 18521.70   | 23.5041    | 24.0760    | 22.6689    | 32.6782    | \n",
       "| 5 | 1959-04-01 | 2328.668   | 2190.7     | 18.488     | 262043.8   | 18533.11   | 24.0048    | 24.4237    | 23.0011    | 33.1937    | \n",
       "| 6 | 1959-05-01 | 2342.767   | 2205.7     | 18.710     | 263871.7   | 18678.30   | 24.3664    | 24.6265    | 23.2225    | 33.3524    | \n",
       "| 7 | 1959-06-01 | 2350.325   | 2212.8     | 18.779     | 263840.0   | 18848.37   | 24.3942    | 24.8003    | 23.3886    | 33.1938    | \n",
       "\n",
       "\n"
      ],
      "text/plain": [
       "  sasdate    RPI      W875RX1 DPCERA3M086SBEA CMRMTSPLx RETAILx  INDPRO \n",
       "2 1959-01-01 2289.932 2151.8  18.191          255861.9  18234.44 22.7253\n",
       "3 1959-02-01 2299.790 2160.4  18.380          257783.6  18368.22 23.1703\n",
       "4 1959-03-01 2314.456 2176.2  18.555          256866.4  18521.70 23.5041\n",
       "5 1959-04-01 2328.668 2190.7  18.488          262043.8  18533.11 24.0048\n",
       "6 1959-05-01 2342.767 2205.7  18.710          263871.7  18678.30 24.3664\n",
       "7 1959-06-01 2350.325 2212.8  18.779          263840.0  18848.37 24.3942\n",
       "  IPFPNSS IPFINAL IPCONGD\n",
       "2 23.6124 22.3645 32.4403\n",
       "3 23.9311 22.5582 32.6782\n",
       "4 24.0760 22.6689 32.6782\n",
       "5 24.4237 23.0011 33.1937\n",
       "6 24.6265 23.2225 33.3524\n",
       "7 24.8003 23.3886 33.1938"
      ]
     },
     "metadata": {},
     "output_type": "display_data"
    }
   ],
   "source": [
    "data$sasdate = as.Date(data$sasdate, '%m/%d/%Y')\n",
    "head(data)"
   ]
  },
  {
   "cell_type": "markdown",
   "metadata": {},
   "source": [
    "#### Plot one of the series\n",
    "again, choose a subset (`[...]`), but with a vector (`c(...)`)"
   ]
  },
  {
   "cell_type": "code",
   "execution_count": 5,
   "metadata": {},
   "outputs": [
    {
     "data": {
      "image/png": "[encoded data removed]",
      "text/plain": [
       "plot without title"
      ]
     },
     "metadata": {},
     "output_type": "display_data"
    }
   ],
   "source": [
    "plot(data[c('sasdate', 'RPI')])"
   ]
  },
  {
   "cell_type": "markdown",
   "metadata": {},
   "source": [
    "##### Regress `RPI` on the `W875RX1` series( 3rd column)"
   ]
  },
  {
   "cell_type": "code",
   "execution_count": 6,
   "metadata": {},
   "outputs": [
    {
     "data": {
      "text/plain": [
       "\n",
       "Call:\n",
       "lm(formula = RPI ~ W875RX1, data = data)\n",
       "\n",
       "Residuals:\n",
       "    Min      1Q  Median      3Q     Max \n",
       "-347.33  -89.90   -3.71   83.45  468.31 \n",
       "\n",
       "Coefficients:\n",
       "              Estimate Std. Error t value Pr(>|t|)    \n",
       "(Intercept) -4.898e+02  1.352e+01  -36.22   <2e-16 ***\n",
       "W875RX1      1.235e+00  1.894e-03  651.70   <2e-16 ***\n",
       "---\n",
       "Signif. codes:  0 ‘***’ 0.001 ‘**’ 0.01 ‘*’ 0.05 ‘.’ 0.1 ‘ ’ 1\n",
       "\n",
       "Residual standard error: 150.5 on 705 degrees of freedom\n",
       "  (1 observation deleted due to missingness)\n",
       "Multiple R-squared:  0.9983,\tAdjusted R-squared:  0.9983 \n",
       "F-statistic: 4.247e+05 on 1 and 705 DF,  p-value: < 2.2e-16\n"
      ]
     },
     "metadata": {},
     "output_type": "display_data"
    }
   ],
   "source": [
    "reg = lm(RPI ~ W875RX1, data)\n",
    "summary(reg)"
   ]
  },
  {
   "cell_type": "markdown",
   "metadata": {},
   "source": [
    "#### extract the coefficients"
   ]
  },
  {
   "cell_type": "code",
   "execution_count": 7,
   "metadata": {},
   "outputs": [
    {
     "data": {
      "text/html": [
       "<dl class=dl-horizontal>\n",
       "\t<dt>(Intercept)</dt>\n",
       "\t\t<dd>-489.847772391896</dd>\n",
       "\t<dt>W875RX1</dt>\n",
       "\t\t<dd>1.23460473868489</dd>\n",
       "</dl>\n"
      ],
      "text/latex": [
       "\\begin{description*}\n",
       "\\item[(Intercept)] -489.847772391896\n",
       "\\item[W875RX1] 1.23460473868489\n",
       "\\end{description*}\n"
      ],
      "text/markdown": [
       "(Intercept)\n",
       ":   -489.847772391896W875RX1\n",
       ":   1.23460473868489\n",
       "\n"
      ],
      "text/plain": [
       "(Intercept)     W875RX1 \n",
       "-489.847772    1.234605 "
      ]
     },
     "metadata": {},
     "output_type": "display_data"
    }
   ],
   "source": [
    "coef(reg)"
   ]
  },
  {
   "cell_type": "markdown",
   "metadata": {},
   "source": [
    "#### Regress RPI on all of the colums, and look at the R square"
   ]
  },
  {
   "cell_type": "code",
   "execution_count": 8,
   "metadata": {},
   "outputs": [
    {
     "data": {
      "text/html": [
       "<ol class=list-inline>\n",
       "\t<li>'W875RX1'</li>\n",
       "\t<li>'DPCERA3M086SBEA'</li>\n",
       "\t<li>'CMRMTSPLx'</li>\n",
       "\t<li>'RETAILx'</li>\n",
       "\t<li>'INDPRO'</li>\n",
       "\t<li>'IPFPNSS'</li>\n",
       "\t<li>'IPFINAL'</li>\n",
       "\t<li>'IPCONGD'</li>\n",
       "</ol>\n"
      ],
      "text/latex": [
       "\\begin{enumerate*}\n",
       "\\item 'W875RX1'\n",
       "\\item 'DPCERA3M086SBEA'\n",
       "\\item 'CMRMTSPLx'\n",
       "\\item 'RETAILx'\n",
       "\\item 'INDPRO'\n",
       "\\item 'IPFPNSS'\n",
       "\\item 'IPFINAL'\n",
       "\\item 'IPCONGD'\n",
       "\\end{enumerate*}\n"
      ],
      "text/markdown": [
       "1. 'W875RX1'\n",
       "2. 'DPCERA3M086SBEA'\n",
       "3. 'CMRMTSPLx'\n",
       "4. 'RETAILx'\n",
       "5. 'INDPRO'\n",
       "6. 'IPFPNSS'\n",
       "7. 'IPFINAL'\n",
       "8. 'IPCONGD'\n",
       "\n",
       "\n"
      ],
      "text/plain": [
       "[1] \"W875RX1\"         \"DPCERA3M086SBEA\" \"CMRMTSPLx\"       \"RETAILx\"        \n",
       "[5] \"INDPRO\"          \"IPFPNSS\"         \"IPFINAL\"         \"IPCONGD\"        "
      ]
     },
     "metadata": {},
     "output_type": "display_data"
    }
   ],
   "source": [
    "variables = colnames(data)[-(1:2)]\n",
    "variables"
   ]
  },
  {
   "cell_type": "markdown",
   "metadata": {},
   "source": [
    "#### use `lapply` to apply a function to all these variable names\n",
    "\n",
    "lapply applies a function to every element in a list/vector, and returns a list"
   ]
  },
  {
   "cell_type": "code",
   "execution_count": 9,
   "metadata": {},
   "outputs": [],
   "source": [
    "regressions = lapply(variables, function(x)\n",
    "                        lm(as.formula(paste('RPI ~ ', x)), data))"
   ]
  },
  {
   "cell_type": "markdown",
   "metadata": {},
   "source": [
    "The first element is of course the same as above:"
   ]
  },
  {
   "cell_type": "code",
   "execution_count": 10,
   "metadata": {},
   "outputs": [
    {
     "data": {
      "text/plain": [
       "\n",
       "Call:\n",
       "lm(formula = as.formula(paste(\"RPI ~ \", x)), data = data)\n",
       "\n",
       "Coefficients:\n",
       "(Intercept)      W875RX1  \n",
       "   -489.848        1.235  \n"
      ]
     },
     "metadata": {},
     "output_type": "display_data"
    }
   ],
   "source": [
    "regressions[[1]]"
   ]
  },
  {
   "cell_type": "markdown",
   "metadata": {},
   "source": [
    "Small note: why subset with `regressions[[1]]` instead of `regressions[1]`? It does not matter in this example, but the difference may be important in other settings, see the [R Inferno](https://www.burns-stat.com/pages/Tutor/R_inferno.pdf) page 72, section *8.1.54 list subscripting*"
   ]
  },
  {
   "cell_type": "markdown",
   "metadata": {},
   "source": [
    "#### The R squares"
   ]
  },
  {
   "cell_type": "code",
   "execution_count": 16,
   "metadata": {},
   "outputs": [
    {
     "data": {
      "text/html": [
       "<ol>\n",
       "\t<li>0.998342794265881</li>\n",
       "\t<li>0.998499687672376</li>\n",
       "\t<li>0.989081741856262</li>\n",
       "\t<li>0.988001824084316</li>\n",
       "\t<li>0.968955313545035</li>\n",
       "\t<li>0.933096618894829</li>\n",
       "\t<li>0.945172251920338</li>\n",
       "\t<li>0.88369985729919</li>\n",
       "</ol>\n"
      ],
      "text/latex": [
       "\\begin{enumerate}\n",
       "\\item 0.998342794265881\n",
       "\\item 0.998499687672376\n",
       "\\item 0.989081741856262\n",
       "\\item 0.988001824084316\n",
       "\\item 0.968955313545035\n",
       "\\item 0.933096618894829\n",
       "\\item 0.945172251920338\n",
       "\\item 0.88369985729919\n",
       "\\end{enumerate}\n"
      ],
      "text/markdown": [
       "1. 0.998342794265881\n",
       "2. 0.998499687672376\n",
       "3. 0.989081741856262\n",
       "4. 0.988001824084316\n",
       "5. 0.968955313545035\n",
       "6. 0.933096618894829\n",
       "7. 0.945172251920338\n",
       "8. 0.88369985729919\n",
       "\n",
       "\n"
      ],
      "text/plain": [
       "[[1]]\n",
       "[1] 0.9983428\n",
       "\n",
       "[[2]]\n",
       "[1] 0.9984997\n",
       "\n",
       "[[3]]\n",
       "[1] 0.9890817\n",
       "\n",
       "[[4]]\n",
       "[1] 0.9880018\n",
       "\n",
       "[[5]]\n",
       "[1] 0.9689553\n",
       "\n",
       "[[6]]\n",
       "[1] 0.9330966\n",
       "\n",
       "[[7]]\n",
       "[1] 0.9451723\n",
       "\n",
       "[[8]]\n",
       "[1] 0.8836999\n"
      ]
     },
     "metadata": {},
     "output_type": "display_data"
    }
   ],
   "source": [
    "rsquares = lapply(regressions, function(x) summary(x)$r.squared)\n",
    "rsquares"
   ]
  },
  {
   "cell_type": "markdown",
   "metadata": {},
   "source": [
    "#### In a more readable output"
   ]
  },
  {
   "cell_type": "code",
   "execution_count": 17,
   "metadata": {},
   "outputs": [
    {
     "data": {
      "text/html": [
       "<table>\n",
       "<thead><tr><th scope=col>Rsq</th><th scope=col>name</th></tr></thead>\n",
       "<tbody>\n",
       "\t<tr><td>0.9983428</td><td>W875RX1  </td></tr>\n",
       "\t<tr><td>0.9984997      </td><td>DPCERA3M086SBEA</td></tr>\n",
       "\t<tr><td>0.9890817</td><td>CMRMTSPLx</td></tr>\n",
       "\t<tr><td>0.9880018</td><td>RETAILx  </td></tr>\n",
       "\t<tr><td>0.9689553</td><td>INDPRO   </td></tr>\n",
       "\t<tr><td>0.9330966</td><td>IPFPNSS  </td></tr>\n",
       "\t<tr><td>0.9451723</td><td>IPFINAL  </td></tr>\n",
       "\t<tr><td>0.8836999</td><td>IPCONGD  </td></tr>\n",
       "</tbody>\n",
       "</table>\n"
      ],
      "text/latex": [
       "\\begin{tabular}{ll}\n",
       " Rsq & name\\\\\n",
       "\\hline\n",
       "\t 0.9983428 & W875RX1  \\\\\n",
       "\t 0.9984997       & DPCERA3M086SBEA\\\\\n",
       "\t 0.9890817 & CMRMTSPLx\\\\\n",
       "\t 0.9880018 & RETAILx  \\\\\n",
       "\t 0.9689553 & INDPRO   \\\\\n",
       "\t 0.9330966 & IPFPNSS  \\\\\n",
       "\t 0.9451723 & IPFINAL  \\\\\n",
       "\t 0.8836999 & IPCONGD  \\\\\n",
       "\\end{tabular}\n"
      ],
      "text/markdown": [
       "\n",
       "Rsq | name | \n",
       "|---|---|---|---|---|---|---|---|\n",
       "| 0.9983428 | W875RX1   | \n",
       "| 0.9984997       | DPCERA3M086SBEA | \n",
       "| 0.9890817 | CMRMTSPLx | \n",
       "| 0.9880018 | RETAILx   | \n",
       "| 0.9689553 | INDPRO    | \n",
       "| 0.9330966 | IPFPNSS   | \n",
       "| 0.9451723 | IPFINAL   | \n",
       "| 0.8836999 | IPCONGD   | \n",
       "\n",
       "\n"
      ],
      "text/plain": [
       "     Rsq       name           \n",
       "[1,] 0.9983428 W875RX1        \n",
       "[2,] 0.9984997 DPCERA3M086SBEA\n",
       "[3,] 0.9890817 CMRMTSPLx      \n",
       "[4,] 0.9880018 RETAILx        \n",
       "[5,] 0.9689553 INDPRO         \n",
       "[6,] 0.9330966 IPFPNSS        \n",
       "[7,] 0.9451723 IPFINAL        \n",
       "[8,] 0.8836999 IPCONGD        "
      ]
     },
     "metadata": {},
     "output_type": "display_data"
    }
   ],
   "source": [
    "cbind(Rsq = rsquares, name = variables)"
   ]
  },
  {
   "cell_type": "markdown",
   "metadata": {},
   "source": [
    "#### Could also have used a loop"
   ]
  },
  {
   "cell_type": "code",
   "execution_count": 16,
   "metadata": {},
   "outputs": [],
   "source": [
    "rsquares = matrix(0, nrow = 8)\n",
    "i = 1\n",
    "\n",
    "for (name in variables) {\n",
    "    reg = lm(as.formula(paste('RPI ~ ', name)), data)\n",
    "    rsquares[i] = summary(reg)$r.squared\n",
    "    i = i + 1\n",
    "}\n",
    "\n",
    "# Yet another way\n",
    "rsquares_another = list()\n",
    "\n",
    "for (name in variables) {\n",
    "    reg = lm(as.formula(paste('RPI ~ ', name)), data)\n",
    "    rsquares_another[[name]] = summary(reg)$r.squared\n",
    "}"
   ]
  },
  {
   "cell_type": "code",
   "execution_count": 19,
   "metadata": {},
   "outputs": [
    {
     "data": {
      "text/html": [
       "<table>\n",
       "<tbody>\n",
       "\t<tr><td>0.9983428</td></tr>\n",
       "\t<tr><td>0.9984997</td></tr>\n",
       "\t<tr><td>0.9890817</td></tr>\n",
       "\t<tr><td>0.9880018</td></tr>\n",
       "\t<tr><td>0.9689553</td></tr>\n",
       "\t<tr><td>0.9330966</td></tr>\n",
       "\t<tr><td>0.9451723</td></tr>\n",
       "\t<tr><td>0.8836999</td></tr>\n",
       "</tbody>\n",
       "</table>\n"
      ],
      "text/latex": [
       "\\begin{tabular}{l}\n",
       "\t 0.9983428\\\\\n",
       "\t 0.9984997\\\\\n",
       "\t 0.9890817\\\\\n",
       "\t 0.9880018\\\\\n",
       "\t 0.9689553\\\\\n",
       "\t 0.9330966\\\\\n",
       "\t 0.9451723\\\\\n",
       "\t 0.8836999\\\\\n",
       "\\end{tabular}\n"
      ],
      "text/markdown": [
       "\n",
       "| 0.9983428 | \n",
       "| 0.9984997 | \n",
       "| 0.9890817 | \n",
       "| 0.9880018 | \n",
       "| 0.9689553 | \n",
       "| 0.9330966 | \n",
       "| 0.9451723 | \n",
       "| 0.8836999 | \n",
       "\n",
       "\n"
      ],
      "text/plain": [
       "     [,1]     \n",
       "[1,] 0.9983428\n",
       "[2,] 0.9984997\n",
       "[3,] 0.9890817\n",
       "[4,] 0.9880018\n",
       "[5,] 0.9689553\n",
       "[6,] 0.9330966\n",
       "[7,] 0.9451723\n",
       "[8,] 0.8836999"
      ]
     },
     "metadata": {},
     "output_type": "display_data"
    }
   ],
   "source": [
    "rsquares"
   ]
  },
  {
   "cell_type": "code",
   "execution_count": 18,
   "metadata": {},
   "outputs": [
    {
     "data": {
      "text/html": [
       "<dl class=dl-horizontal>\n",
       "\t<dt>W875RX1</dt>\n",
       "\t\t<dd>0.998342794265881</dd>\n",
       "\t<dt>DPCERA3M086SBEA</dt>\n",
       "\t\t<dd>0.998499687672376</dd>\n",
       "\t<dt>CMRMTSPLx</dt>\n",
       "\t\t<dd>0.989081741856262</dd>\n",
       "\t<dt>RETAILx</dt>\n",
       "\t\t<dd>0.988001824084316</dd>\n",
       "\t<dt>INDPRO</dt>\n",
       "\t\t<dd>0.968955313545035</dd>\n",
       "\t<dt>IPFPNSS</dt>\n",
       "\t\t<dd>0.933096618894829</dd>\n",
       "\t<dt>IPFINAL</dt>\n",
       "\t\t<dd>0.945172251920338</dd>\n",
       "\t<dt>IPCONGD</dt>\n",
       "\t\t<dd>0.88369985729919</dd>\n",
       "</dl>\n"
      ],
      "text/latex": [
       "\\begin{description*}\n",
       "\\item[W875RX1] 0.998342794265881\n",
       "\\item[DPCERA3M086SBEA] 0.998499687672376\n",
       "\\item[CMRMTSPLx] 0.989081741856262\n",
       "\\item[RETAILx] 0.988001824084316\n",
       "\\item[INDPRO] 0.968955313545035\n",
       "\\item[IPFPNSS] 0.933096618894829\n",
       "\\item[IPFINAL] 0.945172251920338\n",
       "\\item[IPCONGD] 0.88369985729919\n",
       "\\end{description*}\n"
      ],
      "text/markdown": [
       "W875RX1\n",
       ":   0.998342794265881DPCERA3M086SBEA\n",
       ":   0.998499687672376CMRMTSPLx\n",
       ":   0.989081741856262RETAILx\n",
       ":   0.988001824084316INDPRO\n",
       ":   0.968955313545035IPFPNSS\n",
       ":   0.933096618894829IPFINAL\n",
       ":   0.945172251920338IPCONGD\n",
       ":   0.88369985729919\n",
       "\n"
      ],
      "text/plain": [
       "        W875RX1 DPCERA3M086SBEA       CMRMTSPLx         RETAILx          INDPRO \n",
       "      0.9983428       0.9984997       0.9890817       0.9880018       0.9689553 \n",
       "        IPFPNSS         IPFINAL         IPCONGD \n",
       "      0.9330966       0.9451723       0.8836999 "
      ]
     },
     "metadata": {},
     "output_type": "display_data"
    }
   ],
   "source": [
    "unlist(rsquares_another)"
   ]
  },
  {
   "cell_type": "markdown",
   "metadata": {},
   "source": [
    "Since we converted the date column to a date variable, we can subset with R's \"date arithmetic\", to pick rows after January 2000:"
   ]
  },
  {
   "cell_type": "code",
   "execution_count": 15,
   "metadata": {},
   "outputs": [
    {
     "data": {
      "text/html": [
       "<table>\n",
       "<thead><tr><th></th><th scope=col>sasdate</th><th scope=col>RPI</th><th scope=col>W875RX1</th><th scope=col>DPCERA3M086SBEA</th><th scope=col>CMRMTSPLx</th><th scope=col>RETAILx</th><th scope=col>INDPRO</th><th scope=col>IPFPNSS</th><th scope=col>IPFINAL</th><th scope=col>IPCONGD</th></tr></thead>\n",
       "<tbody>\n",
       "\t<tr><th scope=row>495</th><td>2000-02-01</td><td>10244.61  </td><td>8963.6    </td><td>81.906    </td><td>970668    </td><td>272020    </td><td>94.8185   </td><td>100.7879  </td><td>97.3595   </td><td>105.7005  </td></tr>\n",
       "\t<tr><th scope=row>496</th><td>2000-03-01</td><td>10271.61  </td><td>8991.3    </td><td>82.368    </td><td>982117    </td><td>275214    </td><td>95.1983   </td><td>101.0385  </td><td>97.5155   </td><td>105.3760  </td></tr>\n",
       "\t<tr><th scope=row>497</th><td>2000-04-01</td><td>10319.03  </td><td>9027.1    </td><td>82.275    </td><td>990182    </td><td>271004    </td><td>95.8921   </td><td>101.9990  </td><td>98.4433   </td><td>106.3648  </td></tr>\n",
       "\t<tr><th scope=row>498</th><td>2000-05-01</td><td>10352.77  </td><td>9031.0    </td><td>82.655    </td><td>985063    </td><td>271418    </td><td>96.0691   </td><td>102.0137  </td><td>98.6427   </td><td>106.4117  </td></tr>\n",
       "\t<tr><th scope=row>499</th><td>2000-06-01</td><td>10377.95  </td><td>9069.9    </td><td>82.828    </td><td>991595    </td><td>273440    </td><td>96.1568   </td><td>102.0685  </td><td>98.7920   </td><td>106.5081  </td></tr>\n",
       "\t<tr><th scope=row>500</th><td>2000-07-01</td><td>10432.59  </td><td>9122.4    </td><td>82.874    </td><td>985361    </td><td>272638    </td><td>96.0239   </td><td>102.1407  </td><td>98.8165   </td><td>106.0611  </td></tr>\n",
       "</tbody>\n",
       "</table>\n"
      ],
      "text/latex": [
       "\\begin{tabular}{r|llllllllll}\n",
       "  & sasdate & RPI & W875RX1 & DPCERA3M086SBEA & CMRMTSPLx & RETAILx & INDPRO & IPFPNSS & IPFINAL & IPCONGD\\\\\n",
       "\\hline\n",
       "\t495 & 2000-02-01 & 10244.61   & 8963.6     & 81.906     & 970668     & 272020     & 94.8185    & 100.7879   & 97.3595    & 105.7005  \\\\\n",
       "\t496 & 2000-03-01 & 10271.61   & 8991.3     & 82.368     & 982117     & 275214     & 95.1983    & 101.0385   & 97.5155    & 105.3760  \\\\\n",
       "\t497 & 2000-04-01 & 10319.03   & 9027.1     & 82.275     & 990182     & 271004     & 95.8921    & 101.9990   & 98.4433    & 106.3648  \\\\\n",
       "\t498 & 2000-05-01 & 10352.77   & 9031.0     & 82.655     & 985063     & 271418     & 96.0691    & 102.0137   & 98.6427    & 106.4117  \\\\\n",
       "\t499 & 2000-06-01 & 10377.95   & 9069.9     & 82.828     & 991595     & 273440     & 96.1568    & 102.0685   & 98.7920    & 106.5081  \\\\\n",
       "\t500 & 2000-07-01 & 10432.59   & 9122.4     & 82.874     & 985361     & 272638     & 96.0239    & 102.1407   & 98.8165    & 106.0611  \\\\\n",
       "\\end{tabular}\n"
      ],
      "text/markdown": [
       "\n",
       "| <!--/--> | sasdate | RPI | W875RX1 | DPCERA3M086SBEA | CMRMTSPLx | RETAILx | INDPRO | IPFPNSS | IPFINAL | IPCONGD | \n",
       "|---|---|---|---|---|---|\n",
       "| 495 | 2000-02-01 | 10244.61   | 8963.6     | 81.906     | 970668     | 272020     | 94.8185    | 100.7879   | 97.3595    | 105.7005   | \n",
       "| 496 | 2000-03-01 | 10271.61   | 8991.3     | 82.368     | 982117     | 275214     | 95.1983    | 101.0385   | 97.5155    | 105.3760   | \n",
       "| 497 | 2000-04-01 | 10319.03   | 9027.1     | 82.275     | 990182     | 271004     | 95.8921    | 101.9990   | 98.4433    | 106.3648   | \n",
       "| 498 | 2000-05-01 | 10352.77   | 9031.0     | 82.655     | 985063     | 271418     | 96.0691    | 102.0137   | 98.6427    | 106.4117   | \n",
       "| 499 | 2000-06-01 | 10377.95   | 9069.9     | 82.828     | 991595     | 273440     | 96.1568    | 102.0685   | 98.7920    | 106.5081   | \n",
       "| 500 | 2000-07-01 | 10432.59   | 9122.4     | 82.874     | 985361     | 272638     | 96.0239    | 102.1407   | 98.8165    | 106.0611   | \n",
       "\n",
       "\n"
      ],
      "text/plain": [
       "    sasdate    RPI      W875RX1 DPCERA3M086SBEA CMRMTSPLx RETAILx INDPRO \n",
       "495 2000-02-01 10244.61 8963.6  81.906          970668    272020  94.8185\n",
       "496 2000-03-01 10271.61 8991.3  82.368          982117    275214  95.1983\n",
       "497 2000-04-01 10319.03 9027.1  82.275          990182    271004  95.8921\n",
       "498 2000-05-01 10352.77 9031.0  82.655          985063    271418  96.0691\n",
       "499 2000-06-01 10377.95 9069.9  82.828          991595    273440  96.1568\n",
       "500 2000-07-01 10432.59 9122.4  82.874          985361    272638  96.0239\n",
       "    IPFPNSS  IPFINAL IPCONGD \n",
       "495 100.7879 97.3595 105.7005\n",
       "496 101.0385 97.5155 105.3760\n",
       "497 101.9990 98.4433 106.3648\n",
       "498 102.0137 98.6427 106.4117\n",
       "499 102.0685 98.7920 106.5081\n",
       "500 102.1407 98.8165 106.0611"
      ]
     },
     "metadata": {},
     "output_type": "display_data"
    }
   ],
   "source": [
    "head(data[data$sasdate > '2000-1-1', ])"
   ]
  },
  {
   "cell_type": "markdown",
   "metadata": {},
   "source": [
    "#### That was just a quick refresher"
   ]
  },
  {
   "cell_type": "markdown",
   "metadata": {},
   "source": [
    "#### Other resources"
   ]
  },
  {
   "cell_type": "markdown",
   "metadata": {},
   "source": [
    "Help sites\n",
    "\n",
    "[Stackoverflow](stackoverflow.com)\n",
    "\n",
    "[Stats stack exchange](https://stats.stackexchange.com)\n",
    "\n",
    "\n",
    "An alternative to typset your homework\n",
    "\n",
    "[Markdown and knitr](http://rmarkdown.rstudio.com/articles_intro.html)\n",
    "\n",
    "Free books\n",
    "\n",
    "[Econometrics in R](https://cran.r-project.org/doc/contrib/Farnsworth-EconometricsInR.pdf)\n",
    "\n",
    "[The Art of R Programming](http://heather.cs.ucdavis.edu/~matloff/132/NSPpart.pdf)\n",
    "\n",
    "[R for Data Science](http://r4ds.had.co.nz/) (More \"modern\"/add-ons aspects of R)\n",
    "\n",
    "Misc\n",
    "\n",
    "[Google R Style Guide](https://google.github.io/styleguide/Rguide.xml)"
   ]
  }
 ],
 "metadata": {
  "kernelspec": {
   "display_name": "R",
   "language": "R",
   "name": "ir"
  },
  "language_info": {
   "codemirror_mode": "r",
   "file_extension": ".r",
   "mimetype": "text/x-r-source",
   "name": "R",
   "pygments_lexer": "r",
   "version": "3.4.1"
  }
 },
 "nbformat": 4,
 "nbformat_minor": 2
}
